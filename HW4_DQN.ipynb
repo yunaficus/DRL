{
  "cells": [
    {
      "cell_type": "markdown",
      "metadata": {
        "id": "view-in-github",
        "colab_type": "text"
      },
      "source": [
        "<a href=\"https://colab.research.google.com/github/yunaficus/DRL/blob/main/HW4_DQN.ipynb\" target=\"_parent\"><img src=\"https://colab.research.google.com/assets/colab-badge.svg\" alt=\"Open In Colab\"/></a>"
      ]
    },
    {
      "cell_type": "markdown",
      "source": [
        "# hw4-1"
      ],
      "metadata": {
        "id": "om7LImfeK1y1"
      }
    },
    {
      "cell_type": "markdown",
      "source": [
        "🧾 小報告：以 DQN 強化學習實作簡易環境學習與經驗回放機制\n",
        "一、前言\n",
        "本報告探討了以 DQN（Deep Q-Network） 實作強化學習於簡單環境（Gridworld）中的學習歷程與模型訓練架構，並著重於兩個核心重點：\n",
        "\n",
        "基本 DQN 架構於簡易環境中的應用\n",
        "\n",
        "引入經驗回放（Experience Replay Buffer）提升學習穩定性與效率\n",
        "\n",
        "透過 Python、PyTorch 與自定義 Gridworld 環境的整合，這份程式碼展現了由基本強化學習到進階機制的實作過程與效果分析。\n",
        "\n",
        "二、Basic DQN Implementation for an Easy Environment\n",
        "2.1 環境介紹：Gridworld\n",
        "Gridworld 是一個簡單的 4×4 格狀迷宮，包含「玩家起點」、「目標終點」與「陷阱」，代理人（Agent）需學會選擇正確路徑以最大化 reward。環境可設為：\n",
        "\n",
        "static：固定配置（起點與終點不變）\n",
        "\n",
        "random：每場隨機產生新迷宮\n",
        "\n",
        "player：由玩家設定起點終點位置\n",
        "\n",
        "2.2 DQN 架構設計\n",
        "DQN 是將傳統 Q-learning 中的 Q 表轉換為神經網路，透過函數近似器處理大型或連續狀態空間。\n",
        "\n",
        "model = torch.nn.Sequential(\n",
        "    torch.nn.Linear(64, 150),\n",
        "    torch.nn.ReLU(),\n",
        "    torch.nn.Linear(150, 100),\n",
        "    torch.nn.ReLU(),\n",
        "    torch.nn.Linear(100, 4)\n",
        ")\n",
        "\n",
        "輸入層：64 維（將 Gridworld 4×4×4 壓平）\n",
        "\n",
        "輸出層：4 維，對應四個動作（上、下、左、右）\n",
        "\n",
        "使用 ReLU 激活函數\n",
        "\n",
        "損失函數：MSE（均方誤差）\n",
        "\n",
        "優化器：Adam\n",
        "\n",
        "2.3 ε-greedy 策略與訓練流程\n",
        "模型訓練透過 ε-greedy 策略平衡探索與利用：\n",
        "\n",
        "隨機選動作（探索）或選 Q 值最大者（利用）\n",
        "\n",
        "每個 epoch 遊戲結束後更新網路，計算 loss 並透過反向傳播優化\n",
        "\n",
        "學習過程中，ε 值逐步下降，減少探索傾向，最終保留最低 0.1。\n",
        "\n",
        "三、Experience Replay Buffer\n",
        "3.1 為什麼需要 Replay Buffer？\n",
        "傳統 Q-learning 或 DQN 會依照時間順序處理資料，導致資料高度相關，使訓練不穩定。Replay Buffer 的引入可達到以下優勢：\n",
        "\n",
        "打破資料之間的相關性（破壞時間序列）\n",
        "\n",
        "重複使用資料（提高樣本效率）\n",
        "\n",
        "小批量訓練（mini-batch training）加速收斂\n",
        "\n",
        "3.2 機制與實作\n",
        "\n",
        "from collections import deque\n",
        "\n",
        "replay = deque(maxlen=1000)  # 限制大小\n",
        "minibatch = random.sample(replay, batch_size)  # 隨機抽樣\n",
        "每一步經驗紀錄為：\n",
        "\n",
        "\n",
        "(state, action, reward, next_state, done)\n",
        "當經驗量足夠後，從記憶體中隨機抽取 batch_size 筆資料進行訓練，並依據 Q-learning 更新目標值：\n",
        "\n",
        "Y = reward_batch + γ * ((1 - done_batch) * max(Q(s′)))\n",
        "這可避免同樣情況持續出現導致模型偏誤學習。\n",
        "\n",
        "四、進階設計與優化\n",
        "4.1 目標網路（Target Network）\n",
        "進一步引入 Target Network（model2），用於穩定目標 Q 值計算，並每隔固定步數同步參數。\n",
        "\n",
        "\n",
        "if j % sync_freq == 0:\n",
        "    model2.load_state_dict(model.state_dict())\n",
        "4.2 避免撞牆懲罰\n",
        "透過 validateMove() 判斷是否撞牆，並給予額外懲罰（如 reward = -5），強化代理人避免無效動作。\n",
        "\n",
        "五、訓練結果與成效\n",
        "5.1 損失值趨勢\n",
        "透過繪圖顯示訓練過程中 loss 的下降趨勢，可評估模型收斂狀況。\n",
        "\n",
        "5.2 測試勝率\n",
        "在測試階段模擬 1000 次遊戲，統計代理人勝率（到達終點）作為最終模型表現指標。\n",
        "\n",
        "六、結論與心得\n",
        "這份程式碼展示了從基本 DQN 到引入經驗回放與目標網路的完整強化學習訓練流程。重點包括：\n",
        "\n",
        "神經網路模型作為 Q 函數近似器。\n",
        "\n",
        "經驗回放與隨機抽樣提升學習效率與泛化能力。\n",
        "\n",
        "避免撞牆、勝率統計等優化手段提升模型實用性。\n",
        "\n",
        "透過這樣的實驗平台，不僅能夠加深對 DQN 原理的理解，也為日後在複雜環境中實作如 Atari、OpenAI Gym 等強化學習任務打下良好基礎。\n",
        "\n"
      ],
      "metadata": {
        "id": "MF9_fMMGnM3_"
      }
    },
    {
      "cell_type": "markdown",
      "source": [
        "# hw4-2\n",
        "part1 Double DQN implement  \n",
        "part2 Dueling DQN implement  \n",
        "paet3 Basic DQN implement  \n",
        "part4 comparison"
      ],
      "metadata": {
        "id": "LR5890SIK-UH"
      }
    },
    {
      "cell_type": "code",
      "source": [
        "import numpy as np\n",
        "import torch\n",
        "import random\n",
        "import copy\n",
        "from collections import deque\n",
        "from Gridworld import Gridworld\n",
        "from IPython.display import clear_output\n",
        "from matplotlib import pyplot as plt\n",
        "\n",
        "# 動作對應表\n",
        "action_set = {0: 'u', 1: 'd', 2: 'l', 3: 'r'}\n",
        "\n",
        "# 模型架構與初始化\n",
        "L1, L2, L3, L4 = 64, 150, 100, 4  # 網路層維度\n",
        "model = torch.nn.Sequential(\n",
        "    torch.nn.Linear(L1, L2),\n",
        "    torch.nn.ReLU(),\n",
        "    torch.nn.Linear(L2, L3),\n",
        "    torch.nn.ReLU(),\n",
        "    torch.nn.Linear(L3, L4)\n",
        ")\n",
        "\n",
        "model2 = copy.deepcopy(model)  # 建立目標網路\n",
        "model2.load_state_dict(model.state_dict())\n",
        "\n",
        "loss_fn = torch.nn.MSELoss()\n",
        "optimizer = torch.optim.Adam(model.parameters(), lr=1e-3)\n",
        "gamma = 0.9\n",
        "epsilon = 1.0\n",
        "\n",
        "# 訓練參數\n",
        "epochs = 1000\n",
        "batch_size = 200\n",
        "mem_size = 1000\n",
        "sync_freq = 500\n",
        "replay = deque(maxlen=mem_size)\n",
        "DoubleDQN_losses = []\n",
        "j = 0  # 記錄步數\n",
        "\n",
        "for i in range(epochs):\n",
        "    game = Gridworld(size=4, mode='player')\n",
        "    state_ = game.board.render_np().reshape(1, 64) + np.random.rand(1, 64)/10.0\n",
        "    state1 = torch.from_numpy(state_).float()\n",
        "    status = 1\n",
        "    while status == 1:\n",
        "        j += 1\n",
        "        qval = model(state1)\n",
        "        qval_ = qval.data.numpy()\n",
        "\n",
        "        if random.random() < epsilon:\n",
        "            action_ = np.random.randint(0, 4)\n",
        "        else:\n",
        "            action_ = np.argmax(qval_)\n",
        "\n",
        "        action = action_set[action_]\n",
        "        game.makeMove(action)\n",
        "\n",
        "        state2_ = game.board.render_np().reshape(1, 64) + np.random.rand(1, 64)/10.0\n",
        "        state2 = torch.from_numpy(state2_).float()\n",
        "        reward = game.reward()\n",
        "        done = reward != -1\n",
        "\n",
        "        # 儲存到 Replay Buffer\n",
        "        replay.append((state1, action_, reward, state2, done))\n",
        "        state1 = state2\n",
        "\n",
        "        if len(replay) > batch_size:\n",
        "            minibatch = random.sample(replay, batch_size)\n",
        "            state1_batch = torch.cat([s1 for (s1, a, r, s2, d) in minibatch])\n",
        "            action_batch = torch.Tensor([a for (s1, a, r, s2, d) in minibatch])\n",
        "            reward_batch = torch.Tensor([r for (s1, a, r, s2, d) in minibatch])\n",
        "            state2_batch = torch.cat([s2 for (s1, a, r, s2, d) in minibatch])\n",
        "            done_batch = torch.Tensor([d for (s1, a, r, s2, d) in minibatch])\n",
        "\n",
        "            # --- Double DQN 核心部分 ---\n",
        "            Q1 = model(state1_batch)\n",
        "            with torch.no_grad():\n",
        "                next_actions = torch.argmax(model(state2_batch), dim=1)  # 主網路選動作\n",
        "                Q2 = model2(state2_batch)\n",
        "                next_Q = Q2.gather(1, next_actions.unsqueeze(1)).squeeze()\n",
        "            Y = reward_batch + gamma * ((1 - done_batch) * next_Q)\n",
        "            X = Q1.gather(1, action_batch.long().unsqueeze(1)).squeeze()\n",
        "            loss = loss_fn(X, Y.detach())\n",
        "            # ---------------------------\n",
        "\n",
        "            if i % 100 == 0:\n",
        "                print(f\"Epoch {i}, Loss: {loss.item()}\")\n",
        "                clear_output(wait=True)\n",
        "\n",
        "            optimizer.zero_grad()\n",
        "            loss.backward()\n",
        "            optimizer.step()\n",
        "            DoubleDQN_losses.append(loss.item())\n",
        "\n",
        "            # 每 sync_freq 步更新目標網路\n",
        "            if j % sync_freq == 0:\n",
        "                model2.load_state_dict(model.state_dict())\n",
        "\n",
        "        if abs(reward) == 10:\n",
        "            status = 0\n",
        "\n",
        "    if epsilon > 0.1:\n",
        "        epsilon -= 1/epochs\n",
        "\n",
        "# 繪製 Loss 曲線\n",
        "plt.figure(figsize=(10, 6))\n",
        "plt.plot(DoubleDQN_losses)\n",
        "plt.xlabel(\"Training Steps\")\n",
        "plt.ylabel(\"Loss\")\n",
        "plt.title(\"Double DQN Training Loss (player mode)\")\n",
        "plt.show()\n"
      ],
      "metadata": {
        "colab": {
          "base_uri": "https://localhost:8080/",
          "height": 564
        },
        "id": "HPPh6bPgdw1d",
        "outputId": "28ac1bc6-4f63-486a-bcf7-fe565d3e76fe"
      },
      "execution_count": 7,
      "outputs": [
        {
          "output_type": "display_data",
          "data": {
            "text/plain": [
              "<Figure size 1000x600 with 1 Axes>"
            ],
            "image/png": "[encoded data removed]"
          },
          "metadata": {}
        }
      ]
    },
    {
      "cell_type": "code",
      "source": [
        "import torch\n",
        "import torch.nn as nn\n",
        "\n",
        "class DuelingDQN(nn.Module):\n",
        "    def __init__(self, input_dim, hidden1, hidden2, output_dim):\n",
        "        super(DuelingDQN, self).__init__()\n",
        "\n",
        "        # 通用特徵提取層\n",
        "        self.feature = nn.Sequential(\n",
        "            nn.Linear(input_dim, hidden1),\n",
        "            nn.ReLU()\n",
        "        )\n",
        "\n",
        "        # 優勢層\n",
        "        self.advantage = nn.Sequential(\n",
        "            nn.Linear(hidden1, hidden2),\n",
        "            nn.ReLU(),\n",
        "            nn.Linear(hidden2, output_dim)\n",
        "        )\n",
        "\n",
        "        # 價值層\n",
        "        self.value = nn.Sequential(\n",
        "            nn.Linear(hidden1, hidden2),\n",
        "            nn.ReLU(),\n",
        "            nn.Linear(hidden2, 1)  # 只需一個數值表示狀態價值\n",
        "        )\n",
        "\n",
        "    def forward(self, x):\n",
        "        # 提取特徵\n",
        "        x = self.feature(x)\n",
        "\n",
        "        # 計算優勢\n",
        "        A = self.advantage(x)\n",
        "\n",
        "        # 計算價值\n",
        "        V = self.value(x)\n",
        "\n",
        "        # 組合 Q 值\n",
        "        Q = V + A - A.mean(dim=1, keepdim=True)\n",
        "        return Q\n"
      ],
      "metadata": {
        "id": "SEFYQXuXethB"
      },
      "execution_count": 4,
      "outputs": []
    },
    {
      "cell_type": "code",
      "source": [
        "import numpy as np\n",
        "import torch\n",
        "import random\n",
        "import copy\n",
        "from collections import deque\n",
        "from Gridworld import Gridworld\n",
        "from IPython.display import clear_output\n",
        "from matplotlib import pyplot as plt\n",
        "\n",
        "# 動作對應表\n",
        "action_set = {0: 'u', 1: 'd', 2: 'l', 3: 'r'}\n",
        "\n",
        "# 模型架構與初始化\n",
        "L1, L2, L3, L4 = 64, 150, 100, 4  # 網路層維度\n",
        "model = DuelingDQN(L1, L2, L3, L4)\n",
        "model2 = copy.deepcopy(model)  # 建立目標網路\n",
        "model2.load_state_dict(model.state_dict())\n",
        "\n",
        "loss_fn = torch.nn.MSELoss()\n",
        "optimizer = torch.optim.Adam(model.parameters(), lr=1e-3)\n",
        "gamma = 0.9\n",
        "epsilon = 1.0\n",
        "\n",
        "# 訓練參數\n",
        "epochs = 1000\n",
        "batch_size = 200\n",
        "mem_size = 1000\n",
        "sync_freq = 500\n",
        "replay = deque(maxlen=mem_size)\n",
        "DuelingDQN_losses = []\n",
        "j = 0  # 記錄步數\n",
        "\n",
        "for i in range(epochs):\n",
        "    game = Gridworld(size=4, mode='player')\n",
        "    state_ = game.board.render_np().reshape(1, 64) + np.random.rand(1, 64)/10.0\n",
        "    state1 = torch.from_numpy(state_).float()\n",
        "    status = 1\n",
        "    while status == 1:\n",
        "        j += 1\n",
        "        qval = model(state1)\n",
        "        qval_ = qval.data.numpy()\n",
        "\n",
        "        if random.random() < epsilon:\n",
        "            action_ = np.random.randint(0, 4)\n",
        "        else:\n",
        "            action_ = np.argmax(qval_)\n",
        "\n",
        "        action = action_set[action_]\n",
        "        game.makeMove(action)\n",
        "\n",
        "        state2_ = game.board.render_np().reshape(1, 64) + np.random.rand(1, 64)/10.0\n",
        "        state2 = torch.from_numpy(state2_).float()\n",
        "        reward = game.reward()\n",
        "        done = reward != -1\n",
        "\n",
        "        # 儲存到 Replay Buffer\n",
        "        replay.append((state1, action_, reward, state2, done))\n",
        "        state1 = state2\n",
        "\n",
        "        if len(replay) > batch_size:\n",
        "            minibatch = random.sample(replay, batch_size)\n",
        "            state1_batch = torch.cat([s1 for (s1, a, r, s2, d) in minibatch])\n",
        "            action_batch = torch.Tensor([a for (s1, a, r, s2, d) in minibatch])\n",
        "            reward_batch = torch.Tensor([r for (s1, a, r, s2, d) in minibatch])\n",
        "            state2_batch = torch.cat([s2 for (s1, a, r, s2, d) in minibatch])\n",
        "            done_batch = torch.Tensor([d for (s1, a, r, s2, d) in minibatch])\n",
        "\n",
        "            Q1 = model(state1_batch)\n",
        "            with torch.no_grad():\n",
        "                next_actions = torch.argmax(model(state2_batch), dim=1)  # 主網路選動作\n",
        "                Q2 = model2(state2_batch)\n",
        "                next_Q = Q2.gather(1, next_actions.unsqueeze(1)).squeeze()\n",
        "            Y = reward_batch + gamma * ((1 - done_batch) * next_Q)\n",
        "            X = Q1.gather(1, action_batch.long().unsqueeze(1)).squeeze()\n",
        "            loss = loss_fn(X, Y.detach())\n",
        "\n",
        "            if i % 100 == 0:\n",
        "                print(f\"Epoch {i}, Loss: {loss.item()}\")\n",
        "                clear_output(wait=True)\n",
        "\n",
        "            optimizer.zero_grad()\n",
        "            loss.backward()\n",
        "            optimizer.step()\n",
        "            DuelingDQN_losses.append(loss.item())\n",
        "\n",
        "            # 每 sync_freq 步更新目標網路\n",
        "            if j % sync_freq == 0:\n",
        "                model2.load_state_dict(model.state_dict())\n",
        "\n",
        "        if abs(reward) == 10:\n",
        "            status = 0\n",
        "\n",
        "    if epsilon > 0.1:\n",
        "        epsilon -= 1/epochs\n",
        "\n",
        "# 繪製 Loss 曲線\n",
        "plt.figure(figsize=(10, 6))\n",
        "plt.plot(DuelingDQN_losses)\n",
        "plt.xlabel(\"Training Steps\")\n",
        "plt.ylabel(\"Loss\")\n",
        "plt.title(\"Dueling DQN Training Loss (player mode)\")\n",
        "plt.show()\n"
      ],
      "metadata": {
        "colab": {
          "base_uri": "https://localhost:8080/",
          "height": 564
        },
        "id": "uLeNik57eyBY",
        "outputId": "9aa62491-1d18-4989-efe3-85ae9016b0c9"
      },
      "execution_count": 6,
      "outputs": [
        {
          "output_type": "display_data",
          "data": {
            "text/plain": [
              "<Figure size 1000x600 with 1 Axes>"
            ],
            "image/png": "[encoded data removed]"
          },
          "metadata": {}
        }
      ]
    },
    {
      "cell_type": "code",
      "source": [
        "epochs = 1000\n",
        "losses = [] #使用串列將每一次的loss記錄下來，方便之後將loss的變化趨勢畫成圖\n",
        "for i in range(epochs):\n",
        "  game = Gridworld(size=4, mode='player')\n",
        "  state_ = game.board.render_np().reshape(1,64) + np.random.rand(1,64)/10.0 #將3階的狀態陣列（4x4x4）轉換成向量（長度為64），並將每個值都加上一些雜訊（很小的數值）。\n",
        "  state1 = torch.from_numpy(state_).float() #將NumPy陣列轉換成PyTorch張量，並存於state1中\n",
        "  status = 1 #用來追蹤遊戲是否仍在繼續（『1』代表仍在繼續）\n",
        "  while(status == 1):\n",
        "    qval = model(state1) #執行Q網路，取得所有動作的預測Q值\n",
        "    qval_ = qval.data.numpy() #將qval轉換成NumPy陣列\n",
        "    if (random.random() < epsilon):\n",
        "      action_ = np.random.randint(0,4) #隨機選擇一個動作（探索）\n",
        "    else:\n",
        "      action_ = np.argmax(qval_) #選擇Q值最大的動作（探索）\n",
        "    action = action_set[action_] #將代表某動作的數字對應到makeMove()的英文字母\n",
        "    game.makeMove(action) #執行之前ε—貪婪策略所選出的動作\n",
        "    state2_ = game.board.render_np().reshape(1,64) + np.random.rand(1,64)/10.0\n",
        "    state2 = torch.from_numpy(state2_).float() #動作執行完畢，取得遊戲的新狀態並轉換成張量\n",
        "    reward = game.reward()\n",
        "    with torch.no_grad():\n",
        "      newQ = model(state2.reshape(1,64))\n",
        "    maxQ = torch.max(newQ) #將新狀態下所輸出的Q值向量中的最大值給記錄下來\n",
        "    if reward == -1:\n",
        "      Y = reward + (gamma * maxQ)  #計算訓練所用的目標Q值\n",
        "    else: #若reward不等於-1，代表遊戲已經結束，也就沒有下一個狀態了，因此目標Q值就等於回饋值\n",
        "      Y = reward\n",
        "    Y = torch.Tensor([Y]).detach()\n",
        "    X = qval.squeeze()[action_] #將演算法對執行的動作所預測的Q值存進X，並使用squeeze()將qval中維度為1的階去掉 (shape[1,4]會變成[4])\n",
        "    loss = loss_fn(X, Y) #計算目標Q值與預測Q值之間的誤差\n",
        "    if i%100 == 0:\n",
        "      print(i, loss.item())\n",
        "      clear_output(wait=True)\n",
        "    optimizer.zero_grad()\n",
        "    loss.backward()\n",
        "    optimizer.step()\n",
        "    state1 = state2\n",
        "    if abs(reward) == 10:\n",
        "      status = 0 # 若 reward 的絕對值為10，代表遊戲已經分出勝負，所以設status為0\n",
        "  losses.append(loss.item())\n",
        "  if epsilon > 0.1:\n",
        "    epsilon -= (1/epochs) #讓ε的值隨著訓練的進行而慢慢下降，直到0.1（還是要保留探索的動作）\n",
        "plt.figure(figsize=(10,7))\n",
        "plt.plot(losses)\n",
        "plt.xlabel(\"Epochs\",fontsize=11)\n",
        "plt.ylabel(\"Loss\",fontsize=11)"
      ],
      "metadata": {
        "colab": {
          "base_uri": "https://localhost:8080/",
          "height": 642
        },
        "id": "fgNC3rN5hMqf",
        "outputId": "df3de258-2159-46c7-ef79-264c4f8c3685"
      },
      "execution_count": 8,
      "outputs": [
        {
          "output_type": "execute_result",
          "data": {
            "text/plain": [
              "Text(0, 0.5, 'Loss')"
            ]
          },
          "metadata": {},
          "execution_count": 8
        },
        {
          "output_type": "display_data",
          "data": {
            "text/plain": [
              "<Figure size 1000x700 with 1 Axes>"
            ],
            "image/png": "[encoded data removed]"
          },
          "metadata": {}
        }
      ]
    },
    {
      "cell_type": "code",
      "source": [
        "import matplotlib.pyplot as plt\n",
        "\n",
        "plt.figure(figsize=(18, 6))\n",
        "\n",
        "# 第一個圖表：Double DQN Training Loss\n",
        "plt.subplot(1, 3, 1)\n",
        "plt.plot(DoubleDQN_losses)\n",
        "plt.xlabel(\"Training Steps\")\n",
        "plt.ylabel(\"Loss\")\n",
        "plt.title(\"Double DQN Training Loss (player mode)\")\n",
        "\n",
        "# 第二個圖表：Dueling DQN Training Loss\n",
        "plt.subplot(1, 3, 2)\n",
        "plt.plot(DuelingDQN_losses)\n",
        "plt.xlabel(\"Training Steps\")\n",
        "plt.ylabel(\"Loss\")\n",
        "plt.title(\"Dueling DQN Training Loss (player mode)\")\n",
        "\n",
        "# 第三個圖表：Basic DQN Training Loss\n",
        "plt.subplot(1, 3, 3)\n",
        "plt.plot(losses)\n",
        "plt.xlabel(\"Epochs\")\n",
        "plt.ylabel(\"Loss\")\n",
        "plt.title(\"DQN Training Loss (player mode)\")\n",
        "\n",
        "# 顯示三個圖表\n",
        "plt.tight_layout()\n",
        "plt.show()\n"
      ],
      "metadata": {
        "colab": {
          "base_uri": "https://localhost:8080/",
          "height": 483
        },
        "id": "KFUwLfsMhu_Q",
        "outputId": "c141785e-191b-438d-ebc7-31e57f4fadc2"
      },
      "execution_count": 12,
      "outputs": [
        {
          "output_type": "display_data",
          "data": {
            "text/plain": [
              "<Figure size 1800x600 with 3 Axes>"
            ],
            "image/png": "[encoded data removed]"
          },
          "metadata": {}
        }
      ]
    },
    {
      "cell_type": "markdown",
      "source": [
        "Double DQN 和 Dueling DQN 改進 Basic DQN 的方式\n",
        "1. Double DQN 的改善\n",
        "Double DQN 主要的改進是減少了 Q 值的過度估計問題。在基本 DQN 中，最大 Q 值是由同一個網路選擇動作並估算 Q 值，這可能會導致過高的期望回報，尤其是在動作空間很大或狀態空間很複雜時。\n",
        "\n",
        "Double DQN 的解決方案：\n",
        "Double DQN 透過引入兩個網路來解決過度估計問題：\n",
        "\n",
        "主網路（model）用來選擇動作。\n",
        "\n",
        "目標網路（model2）用來估算 Q 值。\n",
        "\n",
        "在每一步更新時，主網路選擇動作，而目標網路則估算該動作的 Q 值，這樣可以減少 Q 值過度估計的問題。\n",
        "\n",
        "公式：\n",
        "\n",
        "在 基本 DQN 中，目標 Q 值的計算是：\n",
        "\n",
        "𝑌\n",
        "=\n",
        "reward\n",
        "+\n",
        "𝛾\n",
        "×\n",
        "max\n",
        "⁡\n",
        "𝑎\n",
        "′\n",
        "𝑄\n",
        "(\n",
        "𝑠\n",
        "′\n",
        ",\n",
        "𝑎\n",
        "′\n",
        ")\n",
        "Y=reward+γ×\n",
        "a\n",
        "′\n",
        "\n",
        "max\n",
        "​\n",
        " Q(s\n",
        "′\n",
        " ,a\n",
        "′\n",
        " )\n",
        "而在 Double DQN 中，目標 Q 值的計算方式是：\n",
        "\n",
        "𝑌\n",
        "=\n",
        "reward\n",
        "+\n",
        "𝛾\n",
        "×\n",
        "𝑄\n",
        "target\n",
        "(\n",
        "𝑠\n",
        "′\n",
        ",\n",
        "arg\n",
        "⁡\n",
        "max\n",
        "⁡\n",
        "𝑎\n",
        "′\n",
        "𝑄\n",
        "main\n",
        "(\n",
        "𝑠\n",
        "′\n",
        ",\n",
        "𝑎\n",
        "′\n",
        ")\n",
        ")\n",
        "Y=reward+γ×Q\n",
        "target\n",
        "​\n",
        " (s\n",
        "′\n",
        " ,arg\n",
        "a\n",
        "′\n",
        "\n",
        "max\n",
        "​\n",
        " Q\n",
        "main\n",
        "​\n",
        " (s\n",
        "′\n",
        " ,a\n",
        "′\n",
        " ))\n",
        "這樣能夠減少 Q 值過度估計，並提供更穩定的學習過程。\n",
        "\n",
        "觀察：\n",
        "Double DQN 的損失曲線（第一張圖）顯示了相對平穩的學習過程。儘管存在波動，這比 Basic DQN 和 Dueling DQN 更為穩定，表明 Double DQN 能夠避免 Q 值過度估計的問題，並穩定學習。\n",
        "\n",
        "2. Dueling DQN 的改善\n",
        "Dueling DQN 提出將 Q 值分為兩個部分：\n",
        "\n",
        "狀態價值（V(s)）：表示在某狀態下，代理人能夠期望的回報。\n",
        "\n",
        "動作優勢（A(s, a)）：表示某一動作相對於其他動作的優勢。\n",
        "\n",
        "這樣做的目的是讓模型能夠更精確地學習每個狀態的價值，並使動作選擇更具彈性。\n",
        "\n",
        "Dueling DQN 的解決方案：\n",
        "Dueling DQN 的公式為：\n",
        "\n",
        "𝑄\n",
        "(\n",
        "𝑠\n",
        ",\n",
        "𝑎\n",
        ")\n",
        "=\n",
        "𝑉\n",
        "(\n",
        "𝑠\n",
        ")\n",
        "+\n",
        "(\n",
        "𝐴\n",
        "(\n",
        "𝑠\n",
        ",\n",
        "𝑎\n",
        ")\n",
        "−\n",
        "mean\n",
        "(\n",
        "𝐴\n",
        "(\n",
        "𝑠\n",
        ",\n",
        "𝑎\n",
        ")\n",
        ")\n",
        ")\n",
        "Q(s,a)=V(s)+(A(s,a)−mean(A(s,a)))\n",
        "這樣，狀態價值和動作優勢分開處理，使得模型在學習過程中能夠捕捉更多的狀態特徵，並有效處理動作優勢差異。\n",
        "\n",
        "觀察：\n",
        "Dueling DQN 的損失曲線（第二張圖）顯示了較為穩定的學習過程。相較於 Basic DQN，Dueling DQN 能更有效地捕捉狀態的價值與動作的優勢，學習過程中的波動較小。\n",
        "\n",
        "\n",
        "\n",
        "\n",
        "| 方法              | 優勢                        | 改進                                 |\n",
        "| --------------- | ------------------------- | ---------------------------------- |\n",
        "| **Basic DQN**   | 簡單，適用於簡單環境。               | 容易受到 Q 值過度估計影響，學習過程不穩定。            |\n",
        "| **Double DQN**  | 減少了 Q 值過度估計的問題，使學習過程更穩定。  | 使用兩個網路（主網路和目標網路），減少了過度估計，提供了穩定的學習。 |\n",
        "| **Dueling DQN** | 更有效地捕捉狀態價值與動作優勢，使模型學習更高效。 | 分離狀態價值和動作優勢，提高了學習效率，尤其在複雜環境中表現更好。  |\n"
      ],
      "metadata": {
        "id": "DheGGOwLkbnd"
      }
    },
    {
      "cell_type": "markdown",
      "source": [
        "# 4-3\n"
      ],
      "metadata": {
        "id": "apgiyLtxmTYp"
      }
    },
    {
      "cell_type": "code",
      "source": [
        "import pytorch_lightning as pl\n",
        "import torch\n",
        "import torch.nn as nn\n",
        "import torch.optim as optim\n",
        "from collections import deque\n",
        "import random\n",
        "import numpy as np\n",
        "from Gridworld import Gridworld\n",
        "from torch.optim.lr_scheduler import StepLR  # 引入學習率調度器\n",
        "\n",
        "# 定義 DQN 模型（PyTorch Lightning 版）\n",
        "class DQNLightning(pl.LightningModule):\n",
        "    def __init__(self, input_dim, hidden1, hidden2, output_dim, gamma=0.9, epsilon=1.0):\n",
        "        super(DQNLightning, self).__init__()\n",
        "        self.model = nn.Sequential(\n",
        "            nn.Linear(input_dim, hidden1),\n",
        "            nn.ReLU(),\n",
        "            nn.Linear(hidden1, hidden2),\n",
        "            nn.ReLU(),\n",
        "            nn.Linear(hidden2, output_dim)\n",
        "        )\n",
        "\n",
        "        self.target_model = nn.Sequential(\n",
        "            nn.Linear(input_dim, hidden1),\n",
        "            nn.ReLU(),\n",
        "            nn.Linear(hidden1, hidden2),\n",
        "            nn.ReLU(),\n",
        "            nn.Linear(hidden2, output_dim)\n",
        "        )\n",
        "\n",
        "        self.gamma = gamma\n",
        "        self.epsilon = epsilon\n",
        "        self.loss_fn = nn.MSELoss()\n",
        "        self.optimizer = optim.Adam(self.model.parameters(), lr=1e-3)\n",
        "        self.replay_buffer = deque(maxlen=1000)\n",
        "        self.batch_size = 64\n",
        "        self.sync_freq = 500  # Target model sync frequency\n",
        "        self.total_steps = 0\n",
        "\n",
        "    def forward(self, x):\n",
        "        return self.model(x)\n",
        "\n",
        "    def update_target_model(self):\n",
        "        self.target_model.load_state_dict(self.model.state_dict())\n",
        "\n",
        "    def compute_loss(self, state_batch, action_batch, reward_batch, next_state_batch, done_batch):\n",
        "        current_q_values = self.model(state_batch).gather(1, action_batch.unsqueeze(1))\n",
        "\n",
        "        with torch.no_grad():\n",
        "            next_actions = torch.argmax(self.model(next_state_batch), dim=1)\n",
        "            target_q_values = self.target_model(next_state_batch).gather(1, next_actions.unsqueeze(1))\n",
        "\n",
        "        target = reward_batch + self.gamma * (1 - done_batch) * target_q_values\n",
        "        loss = self.loss_fn(current_q_values.squeeze(), target.squeeze())\n",
        "        return loss\n",
        "\n",
        "    def training_step(self, batch, batch_idx):\n",
        "        state_batch, action_batch, reward_batch, next_state_batch, done_batch = batch\n",
        "\n",
        "        loss = self.compute_loss(state_batch, action_batch, reward_batch, next_state_batch, done_batch)\n",
        "\n",
        "        # 梯度裁剪：確保梯度不會太大，避免梯度爆炸\n",
        "        torch.nn.utils.clip_grad_norm_(self.model.parameters(), 1.0)\n",
        "\n",
        "        return loss\n",
        "\n",
        "    def configure_optimizers(self):\n",
        "        # 添加學習率調度器\n",
        "        scheduler = StepLR(self.optimizer, step_size=100, gamma=0.7)  # 每100步調整學習率\n",
        "        return [self.optimizer], [scheduler]\n",
        "\n",
        "    def train_dqn(self, epochs=1000, game_mode=\"random\"):\n",
        "        # 初始化 DQN 訓練\n",
        "        for epoch in range(epochs):\n",
        "            game = Gridworld(size=4, mode=game_mode)\n",
        "            state_ = game.board.render_np().reshape(1, 64) + np.random.rand(1, 64) / 10.0\n",
        "            state1 = torch.from_numpy(state_).float()\n",
        "            status = 1\n",
        "            while status == 1:\n",
        "                self.total_steps += 1\n",
        "\n",
        "                # 使用 epsilon-greedy 進行探索\n",
        "                if random.random() < self.epsilon:\n",
        "                    action_ = np.random.randint(0, 4)\n",
        "                else:\n",
        "                    qval = self.model(state1)\n",
        "                    action_ = torch.argmax(qval).item()\n",
        "\n",
        "                action = action_set[action_]\n",
        "                game.makeMove(action)\n",
        "\n",
        "                state2_ = game.board.render_np().reshape(1, 64) + np.random.rand(1, 64) / 10.0\n",
        "                state2 = torch.from_numpy(state2_).float()\n",
        "                reward = game.reward()\n",
        "                done = reward != -1\n",
        "\n",
        "                self.replay_buffer.append((state1, action_, reward, state2, done))\n",
        "                state1 = state2\n",
        "\n",
        "                if len(self.replay_buffer) > self.batch_size:\n",
        "                    minibatch = random.sample(self.replay_buffer, self.batch_size)\n",
        "                    state_batch = torch.cat([s1 for (s1, a, r, s2, d) in minibatch])\n",
        "                    action_batch = torch.tensor([a for (s1, a, r, s2, d) in minibatch])\n",
        "                    reward_batch = torch.tensor([r for (s1, a, r, s2, d) in minibatch])\n",
        "                    state2_batch = torch.cat([s2 for (s1, a, r, s2, d) in minibatch])\n",
        "                    done_batch = torch.tensor([d for (s1, a, r, s2, d) in minibatch])\n",
        "\n",
        "                    # 訓練步驟\n",
        "                    self.optimizer.zero_grad()\n",
        "                    loss = self.compute_loss(state_batch, action_batch, reward_batch, state2_batch, done_batch)\n",
        "                    loss.backward()\n",
        "                    self.optimizer.step()\n",
        "\n",
        "                    # 每訓練一定步數同步目標網路\n",
        "                    if self.total_steps % self.sync_freq == 0:\n",
        "                        self.update_target_model()\n",
        "\n",
        "                if abs(reward) == 10:\n",
        "                    status = 0\n",
        "            # 梯度裁剪和學習率調度\n",
        "            if self.epsilon > 0.1:\n",
        "                self.epsilon -= 1 / epochs\n"
      ],
      "metadata": {
        "id": "rv49vZRZmVaf"
      },
      "execution_count": 17,
      "outputs": []
    },
    {
      "cell_type": "code",
      "source": [
        "from torch.utils.data import DataLoader, TensorDataset\n",
        "\n",
        "class DQNLightning(pl.LightningModule):\n",
        "    def __init__(self, input_dim, hidden1, hidden2, output_dim, gamma=0.9, epsilon=1.0):\n",
        "        super(DQNLightning, self).__init__()\n",
        "        self.model = nn.Sequential(\n",
        "            nn.Linear(input_dim, hidden1),\n",
        "            nn.ReLU(),\n",
        "            nn.Linear(hidden1, hidden2),\n",
        "            nn.ReLU(),\n",
        "            nn.Linear(hidden2, output_dim)\n",
        "        )\n",
        "\n",
        "        self.target_model = nn.Sequential(\n",
        "            nn.Linear(input_dim, hidden1),\n",
        "            nn.ReLU(),\n",
        "            nn.Linear(hidden1, hidden2),\n",
        "            nn.ReLU(),\n",
        "            nn.Linear(hidden2, output_dim)\n",
        "        )\n",
        "\n",
        "        self.gamma = gamma\n",
        "        self.epsilon = epsilon\n",
        "        self.loss_fn = nn.MSELoss()\n",
        "        self.optimizer = optim.Adam(self.model.parameters(), lr=1e-3)\n",
        "        self.replay_buffer = deque(maxlen=1000)\n",
        "        self.batch_size = 64\n",
        "        self.sync_freq = 500  # Target model sync frequency\n",
        "        self.total_steps = 0\n",
        "\n",
        "        # 損失記錄\n",
        "        self.losses = []\n",
        "\n",
        "    def forward(self, x):\n",
        "        return self.model(x)\n",
        "\n",
        "    def update_target_model(self):\n",
        "        self.target_model.load_state_dict(self.model.state_dict())\n",
        "\n",
        "    def compute_loss(self, state_batch, action_batch, reward_batch, next_state_batch, done_batch):\n",
        "        current_q_values = self.model(state_batch).gather(1, action_batch.unsqueeze(1))\n",
        "\n",
        "        with torch.no_grad():\n",
        "            next_actions = torch.argmax(self.model(next_state_batch), dim=1)\n",
        "            target_q_values = self.target_model(next_state_batch).gather(1, next_actions.unsqueeze(1))\n",
        "\n",
        "        target = reward_batch + self.gamma * (1 - done_batch) * target_q_values\n",
        "        loss = self.loss_fn(current_q_values.squeeze(), target.squeeze())\n",
        "        return loss\n",
        "\n",
        "    def training_step(self, batch, batch_idx):\n",
        "        state_batch, action_batch, reward_batch, next_state_batch, done_batch = batch\n",
        "\n",
        "        loss = self.compute_loss(state_batch, action_batch, reward_batch, next_state_batch, done_batch)\n",
        "\n",
        "        # 記錄每次訓練的損失\n",
        "        self.losses.append(loss.item())\n",
        "\n",
        "        # 梯度裁剪\n",
        "        torch.nn.utils.clip_grad_norm_(self.model.parameters(), 1.0)\n",
        "\n",
        "        return loss\n",
        "\n",
        "    def configure_optimizers(self):\n",
        "        scheduler = StepLR(self.optimizer, step_size=100, gamma=0.7)\n",
        "        return [self.optimizer], [scheduler]\n",
        "\n",
        "    def train_dataloader(self):\n",
        "        # 創建一個簡單的訓練資料集：你需要根據你的情況定制資料\n",
        "        # 這裡假設你已經有訓練資料。為了示範，這裡生成隨機資料。\n",
        "\n",
        "        # 假設你有訓練狀態(state)、動作(action)、回報(reward)、下一狀態(next_state) 和結束標記(done)\n",
        "        state_data = np.random.rand(1000, 64)  # 隨機生成狀態資料\n",
        "        action_data = np.random.randint(0, 4, 1000)  # 隨機生成動作（0, 1, 2, 3）\n",
        "        reward_data = np.random.rand(1000)  # 隨機生成回報\n",
        "        next_state_data = np.random.rand(1000, 64)  # 隨機生成下一狀態\n",
        "        done_data = np.random.randint(0, 2, 1000)  # 隨機生成結束標記（0 或 1）\n",
        "\n",
        "        # 將資料轉換為 PyTorch tensor\n",
        "        dataset = TensorDataset(\n",
        "            torch.Tensor(state_data),\n",
        "            torch.Tensor(action_data).long(),\n",
        "            torch.Tensor(reward_data),\n",
        "            torch.Tensor(next_state_data),\n",
        "            torch.Tensor(done_data)\n",
        "        )\n",
        "\n",
        "        # 返回 DataLoader\n",
        "        return DataLoader(dataset, batch_size=self.batch_size, shuffle=True)\n"
      ],
      "metadata": {
        "id": "_xhvSz4Jqo2e"
      },
      "execution_count": 20,
      "outputs": []
    },
    {
      "cell_type": "code",
      "source": [
        "# 創建 Lightning 模型並進行訓練\n",
        "dqn_model = DQNLightning(input_dim=64, hidden1=150, hidden2=100, output_dim=4)\n",
        "trainer = pl.Trainer(max_epochs=1000, logger=logger)\n",
        "trainer.fit(dqn_model)\n",
        "\n",
        "# 訓練結束後畫出損失曲線\n",
        "plt.figure(figsize=(10, 6))\n",
        "plt.plot(dqn_model.losses)\n",
        "plt.xlabel(\"Epochs\", fontsize=11)\n",
        "plt.ylabel(\"Loss\", fontsize=11)\n",
        "plt.title(\"DQN Loss Function (Training Loss)\")\n",
        "plt.show()\n"
      ],
      "metadata": {
        "colab": {
          "base_uri": "https://localhost:8080/",
          "height": 1000,
          "referenced_widgets": [
            "e548e705050f4c9e9e52f2deee19c7ea",
            "59cda64922e543b2a17f53baae488e80",
            "277dc988c6f84e088c392aeeab63b9e4",
            "2e33d90c32804c26883f0481fbd25955",
            "24cf58ffbd1046c48d909976a31774d5",
            "4cf1ee840a604c03adb93bb3cc4d997e",
            "210d09d3e84549d7ae21390827cdc7f9",
            "fe53ba9de8a443e0981b02ce1be16bed",
            "1c61e23a9b8442649e04eece16df6159",
            "25c78e86db9b48e79ab41dd3c24db258",
            "88c08ee3529240319d5d33c774df2308"
          ]
        },
        "id": "X7AN1_ZsrPHF",
        "outputId": "0df4d987-7478-457e-b82f-c1a55732a7b4"
      },
      "execution_count": 21,
      "outputs": [
        {
          "output_type": "stream",
          "name": "stderr",
          "text": [
            "INFO:pytorch_lightning.utilities.rank_zero:Using default `ModelCheckpoint`. Consider installing `litmodels` package to enable `LitModelCheckpoint` for automatic upload to the Lightning model registry.\n",
            "INFO:pytorch_lightning.utilities.rank_zero:GPU available: True (cuda), used: True\n",
            "INFO:pytorch_lightning.utilities.rank_zero:TPU available: False, using: 0 TPU cores\n",
            "INFO:pytorch_lightning.utilities.rank_zero:HPU available: False, using: 0 HPUs\n",
            "INFO:pytorch_lightning.accelerators.cuda:LOCAL_RANK: 0 - CUDA_VISIBLE_DEVICES: [0]\n",
            "INFO:pytorch_lightning.callbacks.model_summary:\n",
            "  | Name         | Type       | Params | Mode \n",
            "----------------------------------------------------\n",
            "0 | model        | Sequential | 25.3 K | train\n",
            "1 | target_model | Sequential | 25.3 K | train\n",
            "2 | loss_fn      | MSELoss    | 0      | train\n",
            "----------------------------------------------------\n",
            "50.5 K    Trainable params\n",
            "0         Non-trainable params\n",
            "50.5 K    Total params\n",
            "0.202     Total estimated model params size (MB)\n",
            "13        Modules in train mode\n",
            "0         Modules in eval mode\n",
            "/usr/local/lib/python3.11/dist-packages/pytorch_lightning/loops/fit_loop.py:310: The number of training batches (16) is smaller than the logging interval Trainer(log_every_n_steps=50). Set a lower value for log_every_n_steps if you want to see logs for the training epoch.\n"
          ]
        },
        {
          "output_type": "display_data",
          "data": {
            "text/plain": [
              "Training: |          | 0/? [00:00<?, ?it/s]"
            ],
            "application/vnd.jupyter.widget-view+json": {
              "version_major": 2,
              "version_minor": 0,
              "model_id": "e548e705050f4c9e9e52f2deee19c7ea"
            }
          },
          "metadata": {}
        },
        {
          "output_type": "stream",
          "name": "stderr",
          "text": [
            "/usr/local/lib/python3.11/dist-packages/torch/nn/modules/loss.py:610: UserWarning: Using a target size (torch.Size([64, 64])) that is different to the input size (torch.Size([64])). This will likely lead to incorrect results due to broadcasting. Please ensure they have the same size.\n",
            "  return F.mse_loss(input, target, reduction=self.reduction)\n",
            "/usr/local/lib/python3.11/dist-packages/torch/nn/modules/loss.py:610: UserWarning: Using a target size (torch.Size([40, 40])) that is different to the input size (torch.Size([40])). This will likely lead to incorrect results due to broadcasting. Please ensure they have the same size.\n",
            "  return F.mse_loss(input, target, reduction=self.reduction)\n",
            "INFO:pytorch_lightning.utilities.rank_zero:`Trainer.fit` stopped: `max_epochs=1000` reached.\n"
          ]
        },
        {
          "output_type": "display_data",
          "data": {
            "text/plain": [
              "<Figure size 1000x600 with 1 Axes>"
            ],
            "image/png": "[encoded data removed]"
          },
          "metadata": {}
        }
      ]
    },
    {
      "cell_type": "markdown",
      "source": [
        "# 原始檔"
      ],
      "metadata": {
        "id": "iUhUDXZSdxfv"
      }
    },
    {
      "cell_type": "markdown",
      "source": [],
      "metadata": {
        "id": "YGBacu1fLA5N"
      }
    },
    {
      "cell_type": "code",
      "source": [
        "import matplotlib.pyplot as plt\n",
        "import numpy as np\n",
        "\n",
        "# Generate sample data\n",
        "data = np.random.randn(100)\n",
        "\n",
        "# Calculate the mean value\n",
        "mean_value = np.mean(data)\n",
        "\n",
        "# Plot the data with alpha level\n",
        "plt.scatter(range(len(data)), data, alpha=0.5)\n",
        "\n",
        "# Add a horizontal line for the mean value\n",
        "plt.axhline(mean_value, color='red', linestyle='--', label='Mean')\n",
        "\n",
        "# Set plot properties\n",
        "plt.xlabel('Data Points')\n",
        "plt.ylabel('Values')\n",
        "plt.title('Scatter Plot with Mean Value')\n",
        "plt.legend()\n",
        "\n",
        "# Display the plot\n",
        "plt.show()"
      ],
      "metadata": {
        "id": "_M0Zl5JnhL5E",
        "outputId": "83de8096-cc29-45a4-e7b7-decefbd79420",
        "colab": {
          "base_uri": "https://localhost:8080/",
          "height": 472
        }
      },
      "execution_count": 1,
      "outputs": [
        {
          "output_type": "display_data",
          "data": {
            "text/plain": [
              "<Figure size 640x480 with 1 Axes>"
            ],
            "image/png": "[encoded data removed]"
          },
          "metadata": {}
        }
      ]
    },
    {
      "cell_type": "markdown",
      "metadata": {
        "id": "zmxNyE4E7JOv"
      },
      "source": [
        "# 程式 3.1: 建立一個Gridworld遊戲"
      ]
    },
    {
      "cell_type": "code",
      "execution_count": null,
      "metadata": {
        "id": "lag6_mkyMsjn"
      },
      "outputs": [],
      "source": []
    },
    {
      "cell_type": "code",
      "execution_count": 2,
      "metadata": {
        "id": "qY8XBySI7BD_"
      },
      "outputs": [],
      "source": [
        "# 下載 Gridworld.py 及 GridBoard.py (-q 是設為安靜模式)\n",
        "!wget -q https://github.com/DeepReinforcementLearning/DeepReinforcementLearningInAction/raw/master/Errata/Gridworld.py\n",
        "!wget -q https://github.com/DeepReinforcementLearning/DeepReinforcementLearningInAction/raw/master/Errata/GridBoard.py\n",
        "\n",
        "from Gridworld import Gridworld\n",
        "game = Gridworld(size=4, mode='static')"
      ]
    },
    {
      "cell_type": "code",
      "execution_count": null,
      "metadata": {
        "colab": {
          "base_uri": "https://localhost:8080/"
        },
        "id": "f6fXLeu9PCDk",
        "outputId": "fcfcb8a3-3a29-47e5-89a0-f1f31a740864"
      },
      "outputs": [
        {
          "output_type": "execute_result",
          "data": {
            "text/plain": [
              "array([['+', '-', ' ', 'P'],\n",
              "       [' ', 'W', ' ', ' '],\n",
              "       [' ', ' ', ' ', ' '],\n",
              "       [' ', ' ', ' ', ' ']], dtype='<U2')"
            ]
          },
          "metadata": {},
          "execution_count": 2
        }
      ],
      "source": [
        "game.display()"
      ]
    },
    {
      "cell_type": "code",
      "execution_count": null,
      "metadata": {
        "id": "AqbHh3l4PFIL"
      },
      "outputs": [],
      "source": [
        "game.makeMove('d')"
      ]
    },
    {
      "cell_type": "code",
      "execution_count": null,
      "metadata": {
        "colab": {
          "base_uri": "https://localhost:8080/"
        },
        "id": "3Dh8L13qPITV",
        "outputId": "ea82f5c8-a36c-420c-d2d4-a75e1491e5b8"
      },
      "outputs": [
        {
          "output_type": "execute_result",
          "data": {
            "text/plain": [
              "array([['+', '-', ' ', ' '],\n",
              "       [' ', 'W', ' ', 'P'],\n",
              "       [' ', ' ', ' ', ' '],\n",
              "       [' ', ' ', ' ', ' ']], dtype='<U2')"
            ]
          },
          "metadata": {},
          "execution_count": 4
        }
      ],
      "source": [
        "game.display()"
      ]
    },
    {
      "cell_type": "code",
      "execution_count": null,
      "metadata": {
        "id": "ylmPBo-FOKW3"
      },
      "outputs": [],
      "source": []
    },
    {
      "cell_type": "code",
      "execution_count": null,
      "metadata": {
        "colab": {
          "base_uri": "https://localhost:8080/"
        },
        "id": "vIzrX2QIPKV_",
        "outputId": "4b26a219-0c18-43db-c9e2-a7e8a01e2f9d"
      },
      "outputs": [
        {
          "output_type": "execute_result",
          "data": {
            "text/plain": [
              "-1"
            ]
          },
          "metadata": {},
          "execution_count": 5
        }
      ],
      "source": [
        "game.reward()"
      ]
    },
    {
      "cell_type": "code",
      "execution_count": null,
      "metadata": {
        "colab": {
          "base_uri": "https://localhost:8080/"
        },
        "id": "O939tgT_PMtg",
        "outputId": "215c188f-9898-45bd-e858-b97553b606e6"
      },
      "outputs": [
        {
          "output_type": "execute_result",
          "data": {
            "text/plain": [
              "array([[[0, 0, 0, 0],\n",
              "        [0, 0, 0, 1],\n",
              "        [0, 0, 0, 0],\n",
              "        [0, 0, 0, 0]],\n",
              "\n",
              "       [[1, 0, 0, 0],\n",
              "        [0, 0, 0, 0],\n",
              "        [0, 0, 0, 0],\n",
              "        [0, 0, 0, 0]],\n",
              "\n",
              "       [[0, 1, 0, 0],\n",
              "        [0, 0, 0, 0],\n",
              "        [0, 0, 0, 0],\n",
              "        [0, 0, 0, 0]],\n",
              "\n",
              "       [[0, 0, 0, 0],\n",
              "        [0, 1, 0, 0],\n",
              "        [0, 0, 0, 0],\n",
              "        [0, 0, 0, 0]]], dtype=uint8)"
            ]
          },
          "metadata": {},
          "execution_count": 6
        }
      ],
      "source": [
        "game.board.render_np()"
      ]
    },
    {
      "cell_type": "code",
      "execution_count": null,
      "metadata": {
        "colab": {
          "base_uri": "https://localhost:8080/"
        },
        "id": "qbHN3c0BPPTN",
        "outputId": "bd75518e-40ab-48ed-84b7-41a1c2439cd9"
      },
      "outputs": [
        {
          "output_type": "execute_result",
          "data": {
            "text/plain": [
              "(4, 4, 4)"
            ]
          },
          "metadata": {},
          "execution_count": 7
        }
      ],
      "source": [
        "game.board.render_np().shape"
      ]
    },
    {
      "cell_type": "markdown",
      "metadata": {
        "id": "zw1S5VTS7UYL"
      },
      "source": [
        "# 程式 3.2"
      ]
    },
    {
      "cell_type": "code",
      "execution_count": null,
      "metadata": {
        "id": "dCakeOE57Nim"
      },
      "outputs": [],
      "source": [
        "import numpy as np\n",
        "import torch\n",
        "from Gridworld import Gridworld\n",
        "from IPython.display import clear_output\n",
        "import random\n",
        "from matplotlib import pylab as plt\n",
        "\n",
        "L1 = 64 #輸入層的寬度\n",
        "L2 = 150 #第一隱藏層的寬度\n",
        "L3 = 100 #第二隱藏層的寬度\n",
        "L4 = 4 #輸出層的寬度\n",
        "\n",
        "model = torch.nn.Sequential(\n",
        "    torch.nn.Linear(L1, L2), #第一隱藏層的shape\n",
        "    torch.nn.ReLU(),\n",
        "    torch.nn.Linear(L2, L3), #第二隱藏層的shape\n",
        "    torch.nn.ReLU(),\n",
        "    torch.nn.Linear(L3,L4) #輸出層的shape\n",
        ")\n",
        "loss_fn = torch.nn.MSELoss() #指定損失函數為MSE（均方誤差）\n",
        "learning_rate = 1e-3  #設定學習率\n",
        "optimizer = torch.optim.Adam(model.parameters(), lr=learning_rate) #指定優化器為Adam，其中model.parameters會傳回所有要優化的權重參數\n",
        "\n",
        "gamma = 0.9 #折扣因子\n",
        "epsilon = 1.0"
      ]
    },
    {
      "cell_type": "markdown",
      "metadata": {
        "id": "m5CbgQa9722M"
      },
      "source": [
        "##將動作的字母與數字對應起來"
      ]
    },
    {
      "cell_type": "code",
      "execution_count": null,
      "metadata": {
        "id": "JFCNox0t70pm"
      },
      "outputs": [],
      "source": [
        "action_set = {\n",
        "\t0: 'u', #『0』代表『向上』\n",
        "\t1: 'd', #『1』代表『向下』\n",
        "\t2: 'l', #『2』代表『向左』\n",
        "\t3: 'r' #『3』代表『向右』\n",
        "}"
      ]
    },
    {
      "cell_type": "markdown",
      "metadata": {
        "id": "Wyf3WzHN7cTl"
      },
      "source": [
        "# 程式 3.3: 主要訓練迴圈"
      ]
    },
    {
      "cell_type": "code",
      "execution_count": null,
      "metadata": {
        "colab": {
          "base_uri": "https://localhost:8080/",
          "height": 637
        },
        "id": "ON1ki8_u7evr",
        "outputId": "030d2d08-a846-4cda-835d-36ef52882bde"
      },
      "outputs": [
        {
          "output_type": "execute_result",
          "data": {
            "text/plain": [
              "Text(0, 0.5, 'Loss')"
            ]
          },
          "metadata": {},
          "execution_count": 10
        },
        {
          "output_type": "display_data",
          "data": {
            "text/plain": [
              "<Figure size 1000x700 with 1 Axes>"
            ],
            "image/png": "[encoded data removed]"
          },
          "metadata": {}
        }
      ],
      "source": [
        "epochs = 1000\n",
        "losses = [] #使用串列將每一次的loss記錄下來，方便之後將loss的變化趨勢畫成圖\n",
        "for i in range(epochs):\n",
        "# 註解1:\n",
        "  game = Gridworld(size=4, mode='static')\n",
        "  state_ = game.board.render_np().reshape(1,64) + np.random.rand(1,64)/10.0 #將3階的狀態陣列（4x4x4）轉換成向量（長度為64），並將每個值都加上一些雜訊（很小的數值）。\n",
        "  state1 = torch.from_numpy(state_).float() #將NumPy陣列轉換成PyTorch張量，並存於state1中\n",
        "  status = 1 #用來追蹤遊戲是否仍在繼續（『1』代表仍在繼續）\n",
        "  while(status == 1):\n",
        "    qval = model(state1) #執行Q網路，取得所有動作的預測Q值\n",
        "    qval_ = qval.data.numpy() #將qval轉換成NumPy陣列\n",
        "    if (random.random() < epsilon):\n",
        "      action_ = np.random.randint(0,4) #隨機選擇一個動作（探索）\n",
        "    else:\n",
        "      action_ = np.argmax(qval_) #選擇Q值最大的動作（探索）\n",
        "    action = action_set[action_] #將代表某動作的數字對應到makeMove()的英文字母\n",
        "    game.makeMove(action) #執行之前ε—貪婪策略所選出的動作\n",
        "    state2_ = game.board.render_np().reshape(1,64) + np.random.rand(1,64)/10.0\n",
        "    state2 = torch.from_numpy(state2_).float() #動作執行完畢，取得遊戲的新狀態並轉換成張量\n",
        "    reward = game.reward()\n",
        "    with torch.no_grad():\n",
        "      newQ = model(state2.reshape(1,64))\n",
        "    maxQ = torch.max(newQ) #將新狀態下所輸出的Q值向量中的最大值給記錄下來\n",
        "    if reward == -1:\n",
        "      Y = reward + (gamma * maxQ)  #計算訓練所用的目標Q值\n",
        "    else: #若reward不等於-1，代表遊戲已經結束，也就沒有下一個狀態了，因此目標Q值就等於回饋值\n",
        "      Y = reward\n",
        "    Y = torch.Tensor([Y]).detach()\n",
        "    X = qval.squeeze()[action_] #將演算法對執行的動作所預測的Q值存進X，並使用squeeze()將qval中維度為1的階去掉 (shape[1,4]會變成[4])\n",
        "    loss = loss_fn(X, Y) #計算目標Q值與預測Q值之間的誤差\n",
        "    if i%100 == 0:\n",
        "      print(i, loss.item())\n",
        "      clear_output(wait=True)\n",
        "    optimizer.zero_grad()\n",
        "    loss.backward()\n",
        "    optimizer.step()\n",
        "    state1 = state2\n",
        "    if abs(reward) == 10:\n",
        "      status = 0 # 若 reward 的絕對值為10，代表遊戲已經分出勝負，所以設status為0\n",
        "  losses.append(loss.item())\n",
        "  if epsilon > 0.1:\n",
        "    epsilon -= (1/epochs) #讓ε的值隨著訓練的進行而慢慢下降，直到0.1（還是要保留探索的動作）\n",
        "plt.figure(figsize=(10,7))\n",
        "plt.plot(losses)\n",
        "plt.xlabel(\"Epochs\",fontsize=11)\n",
        "plt.ylabel(\"Loss\",fontsize=11)"
      ]
    },
    {
      "cell_type": "markdown",
      "metadata": {
        "id": "vCzLJHar6dTv"
      },
      "source": [
        "##torch.no_grad的效果說明"
      ]
    },
    {
      "cell_type": "code",
      "execution_count": null,
      "metadata": {
        "colab": {
          "base_uri": "https://localhost:8080/"
        },
        "id": "soIJ2zfr6eNj",
        "outputId": "218a9d8d-32e7-4afa-fb06-16fa3b56fcb7"
      },
      "outputs": [
        {
          "output_type": "execute_result",
          "data": {
            "text/plain": [
              "tensor([9.], grad_fn=<AddBackward0>)"
            ]
          },
          "metadata": {},
          "execution_count": 11
        }
      ],
      "source": [
        "m = torch.Tensor([2.0])\n",
        "m.requires_grad=True\n",
        "b = torch.Tensor([1.0])\n",
        "b.requires_grad=True\n",
        "def linear_model(x,m,b):\n",
        "  y = m*x + b\n",
        "  return y\n",
        "y = linear_model(torch.Tensor([4.]),m,b)\n",
        "y"
      ]
    },
    {
      "cell_type": "code",
      "execution_count": null,
      "metadata": {
        "colab": {
          "base_uri": "https://localhost:8080/"
        },
        "id": "EEJeqyw_6kz1",
        "outputId": "813e8b22-27e9-449f-959c-af71dd0dc17b"
      },
      "outputs": [
        {
          "output_type": "execute_result",
          "data": {
            "text/plain": [
              "<AddBackward0 at 0x7eff91422350>"
            ]
          },
          "metadata": {},
          "execution_count": 12
        }
      ],
      "source": [
        "y.grad_fn"
      ]
    },
    {
      "cell_type": "code",
      "execution_count": null,
      "metadata": {
        "colab": {
          "base_uri": "https://localhost:8080/"
        },
        "id": "4LRt_7Pp6lb6",
        "outputId": "b9172a07-80f7-4222-c937-d425953b9874"
      },
      "outputs": [
        {
          "output_type": "execute_result",
          "data": {
            "text/plain": [
              "tensor([9.])"
            ]
          },
          "metadata": {},
          "execution_count": 13
        }
      ],
      "source": [
        "with torch.no_grad():\n",
        "  y = linear_model(torch.Tensor([4.]),m,b)\n",
        "y"
      ]
    },
    {
      "cell_type": "code",
      "execution_count": null,
      "metadata": {
        "id": "yjFsDFxt6mvp"
      },
      "outputs": [],
      "source": [
        "y.grad_fn"
      ]
    },
    {
      "cell_type": "code",
      "execution_count": null,
      "metadata": {
        "colab": {
          "base_uri": "https://localhost:8080/"
        },
        "id": "zvaP0_i_6oA8",
        "outputId": "6cc8be69-0855-4b81-9ec0-b11e34a1d8a5"
      },
      "outputs": [
        {
          "output_type": "execute_result",
          "data": {
            "text/plain": [
              "tensor([4.])"
            ]
          },
          "metadata": {},
          "execution_count": 15
        }
      ],
      "source": [
        "y = linear_model(torch.Tensor([4.]),m,b)\n",
        "y.backward()\n",
        "m.grad"
      ]
    },
    {
      "cell_type": "code",
      "execution_count": null,
      "metadata": {
        "colab": {
          "base_uri": "https://localhost:8080/"
        },
        "id": "rUj7NF-w6pXT",
        "outputId": "960a057a-86d0-472b-f721-c66f402ec31b"
      },
      "outputs": [
        {
          "output_type": "execute_result",
          "data": {
            "text/plain": [
              "tensor([1.])"
            ]
          },
          "metadata": {},
          "execution_count": 16
        }
      ],
      "source": [
        "b.grad"
      ]
    },
    {
      "cell_type": "markdown",
      "metadata": {
        "id": "lBCx5EBK8Rl_"
      },
      "source": [
        "# 程式 3.4： 測試Q網路"
      ]
    },
    {
      "cell_type": "code",
      "execution_count": null,
      "metadata": {
        "id": "vH3MSgju8V3O"
      },
      "outputs": [],
      "source": [
        "def test_model(model, mode='static', display=True):\n",
        "    i = 0\n",
        "    test_game = Gridworld(size=4, mode=mode) #產生一場測試遊戲\n",
        "    state_ = test_game.board.render_np().reshape(1,64) + np.random.rand(1,64)/10.0\n",
        "    state = torch.from_numpy(state_).float()\n",
        "    if display:\n",
        "      print(\"Initial State:\")\n",
        "      print(test_game.display())\n",
        "    status = 1\n",
        "    while(status == 1): #遊戲仍在進行\n",
        "      qval = model(state)\n",
        "      qval_ = qval.data.numpy()\n",
        "      action_ = np.argmax(qval_)\n",
        "      action = action_set[action_]\n",
        "      if display:\n",
        "        print('Move #: %s; Taking action: %s' % (i, action))\n",
        "      test_game.makeMove(action)\n",
        "      state_ = test_game.board.render_np().reshape(1,64) + np.random.rand(1,64)/10.0\n",
        "      state = torch.from_numpy(state_).float()\n",
        "      if display:\n",
        "        print(test_game.display())\n",
        "      reward = test_game.reward()\n",
        "      if reward != -1: #代表勝利（抵達終點）或落敗（掉入陷阱）\n",
        "        if reward > 0: #reward>0，代表成功抵達終點\n",
        "          status = 2 #將狀態設為2，跳出迴圈\n",
        "          if display:\n",
        "            print(\"Game won! Reward: %s\" %reward)\n",
        "          else: #掉入陷阱\n",
        "            status = 0 #將狀態設為0，跳出迴圈\n",
        "            if display:\n",
        "              print(\"Game LOST. Reward: %s\" %reward)\n",
        "      i += 1 #每移動一步，i就加1\n",
        "      if (i > 15): #若移動了15步，仍未取出勝利，則一樣視為落敗\n",
        "        if display:\n",
        "          print(\"Game lost; too many moves.\")\n",
        "        break\n",
        "    win = True if status == 2 else False\n",
        "    print(win)\n",
        "    return win"
      ]
    },
    {
      "cell_type": "markdown",
      "metadata": {
        "id": "tzHFGc2C8dgq"
      },
      "source": [
        "## 測試模型（static mode)"
      ]
    },
    {
      "cell_type": "code",
      "execution_count": null,
      "metadata": {
        "colab": {
          "base_uri": "https://localhost:8080/"
        },
        "id": "GvFLVpKv8luG",
        "outputId": "4be1f607-0ffb-47e9-c4f6-c093fd866085"
      },
      "outputs": [
        {
          "output_type": "stream",
          "name": "stdout",
          "text": [
            "Initial State:\n",
            "[['+' '-' ' ' 'P']\n",
            " [' ' 'W' ' ' ' ']\n",
            " [' ' ' ' ' ' ' ']\n",
            " [' ' ' ' ' ' ' ']]\n",
            "Move #: 0; Taking action: d\n",
            "[['+' '-' ' ' ' ']\n",
            " [' ' 'W' ' ' 'P']\n",
            " [' ' ' ' ' ' ' ']\n",
            " [' ' ' ' ' ' ' ']]\n",
            "Move #: 1; Taking action: l\n",
            "[['+' '-' ' ' ' ']\n",
            " [' ' 'W' 'P' ' ']\n",
            " [' ' ' ' ' ' ' ']\n",
            " [' ' ' ' ' ' ' ']]\n",
            "Move #: 2; Taking action: d\n",
            "[['+' '-' ' ' ' ']\n",
            " [' ' 'W' ' ' ' ']\n",
            " [' ' ' ' 'P' ' ']\n",
            " [' ' ' ' ' ' ' ']]\n",
            "Move #: 3; Taking action: l\n",
            "[['+' '-' ' ' ' ']\n",
            " [' ' 'W' ' ' ' ']\n",
            " [' ' 'P' ' ' ' ']\n",
            " [' ' ' ' ' ' ' ']]\n",
            "Move #: 4; Taking action: l\n",
            "[['+' '-' ' ' ' ']\n",
            " [' ' 'W' ' ' ' ']\n",
            " ['P' ' ' ' ' ' ']\n",
            " [' ' ' ' ' ' ' ']]\n",
            "Move #: 5; Taking action: u\n",
            "[['+' '-' ' ' ' ']\n",
            " ['P' 'W' ' ' ' ']\n",
            " [' ' ' ' ' ' ' ']\n",
            " [' ' ' ' ' ' ' ']]\n",
            "Move #: 6; Taking action: u\n",
            "[['+' '-' ' ' ' ']\n",
            " [' ' 'W' ' ' ' ']\n",
            " [' ' ' ' ' ' ' ']\n",
            " [' ' ' ' ' ' ' ']]\n",
            "Game won! Reward: 10\n",
            "True\n"
          ]
        },
        {
          "output_type": "execute_result",
          "data": {
            "text/plain": [
              "True"
            ]
          },
          "metadata": {},
          "execution_count": 18
        }
      ],
      "source": [
        "test_model(model, 'static')"
      ]
    },
    {
      "cell_type": "markdown",
      "metadata": {
        "id": "eeKjgl_F8sCF"
      },
      "source": [
        "## 測試模型 (random mode）"
      ]
    },
    {
      "cell_type": "code",
      "execution_count": null,
      "metadata": {
        "colab": {
          "base_uri": "https://localhost:8080/"
        },
        "id": "V_ZmSKnk80EE",
        "outputId": "f41a4ce1-6e0f-481b-bb61-f94e4b86a7eb"
      },
      "outputs": [
        {
          "output_type": "stream",
          "name": "stdout",
          "text": [
            "Initial State:\n",
            "[[' ' ' ' ' ' ' ']\n",
            " [' ' ' ' 'P' ' ']\n",
            " ['-' ' ' ' ' ' ']\n",
            " ['W' ' ' '+' ' ']]\n",
            "Move #: 0; Taking action: d\n",
            "[[' ' ' ' ' ' ' ']\n",
            " [' ' ' ' ' ' ' ']\n",
            " ['-' ' ' 'P' ' ']\n",
            " ['W' ' ' '+' ' ']]\n",
            "Move #: 1; Taking action: l\n",
            "[[' ' ' ' ' ' ' ']\n",
            " [' ' ' ' ' ' ' ']\n",
            " ['-' 'P' ' ' ' ']\n",
            " ['W' ' ' '+' ' ']]\n",
            "Move #: 2; Taking action: l\n",
            "[[' ' ' ' ' ' ' ']\n",
            " [' ' ' ' ' ' ' ']\n",
            " ['-' ' ' ' ' ' ']\n",
            " ['W' ' ' '+' ' ']]\n",
            "Move #: 3; Taking action: u\n",
            "[[' ' ' ' ' ' ' ']\n",
            " ['P' ' ' ' ' ' ']\n",
            " ['-' ' ' ' ' ' ']\n",
            " ['W' ' ' '+' ' ']]\n",
            "Move #: 4; Taking action: u\n",
            "[['P' ' ' ' ' ' ']\n",
            " [' ' ' ' ' ' ' ']\n",
            " ['-' ' ' ' ' ' ']\n",
            " ['W' ' ' '+' ' ']]\n",
            "Move #: 5; Taking action: d\n",
            "[[' ' ' ' ' ' ' ']\n",
            " ['P' ' ' ' ' ' ']\n",
            " ['-' ' ' ' ' ' ']\n",
            " ['W' ' ' '+' ' ']]\n",
            "Move #: 6; Taking action: u\n",
            "[['P' ' ' ' ' ' ']\n",
            " [' ' ' ' ' ' ' ']\n",
            " ['-' ' ' ' ' ' ']\n",
            " ['W' ' ' '+' ' ']]\n",
            "Move #: 7; Taking action: d\n",
            "[[' ' ' ' ' ' ' ']\n",
            " ['P' ' ' ' ' ' ']\n",
            " ['-' ' ' ' ' ' ']\n",
            " ['W' ' ' '+' ' ']]\n",
            "Move #: 8; Taking action: u\n",
            "[['P' ' ' ' ' ' ']\n",
            " [' ' ' ' ' ' ' ']\n",
            " ['-' ' ' ' ' ' ']\n",
            " ['W' ' ' '+' ' ']]\n",
            "Move #: 9; Taking action: d\n",
            "[[' ' ' ' ' ' ' ']\n",
            " ['P' ' ' ' ' ' ']\n",
            " ['-' ' ' ' ' ' ']\n",
            " ['W' ' ' '+' ' ']]\n",
            "Move #: 10; Taking action: u\n",
            "[['P' ' ' ' ' ' ']\n",
            " [' ' ' ' ' ' ' ']\n",
            " ['-' ' ' ' ' ' ']\n",
            " ['W' ' ' '+' ' ']]\n",
            "Move #: 11; Taking action: d\n",
            "[[' ' ' ' ' ' ' ']\n",
            " ['P' ' ' ' ' ' ']\n",
            " ['-' ' ' ' ' ' ']\n",
            " ['W' ' ' '+' ' ']]\n",
            "Move #: 12; Taking action: u\n",
            "[['P' ' ' ' ' ' ']\n",
            " [' ' ' ' ' ' ' ']\n",
            " ['-' ' ' ' ' ' ']\n",
            " ['W' ' ' '+' ' ']]\n",
            "Move #: 13; Taking action: d\n",
            "[[' ' ' ' ' ' ' ']\n",
            " ['P' ' ' ' ' ' ']\n",
            " ['-' ' ' ' ' ' ']\n",
            " ['W' ' ' '+' ' ']]\n",
            "Move #: 14; Taking action: u\n",
            "[['P' ' ' ' ' ' ']\n",
            " [' ' ' ' ' ' ' ']\n",
            " ['-' ' ' ' ' ' ']\n",
            " ['W' ' ' '+' ' ']]\n",
            "Move #: 15; Taking action: d\n",
            "[[' ' ' ' ' ' ' ']\n",
            " ['P' ' ' ' ' ' ']\n",
            " ['-' ' ' ' ' ' ']\n",
            " ['W' ' ' '+' ' ']]\n",
            "Game lost; too many moves.\n",
            "False\n"
          ]
        },
        {
          "output_type": "execute_result",
          "data": {
            "text/plain": [
              "False"
            ]
          },
          "metadata": {},
          "execution_count": 19
        }
      ],
      "source": [
        "test_model(model, 'random') #將游戲的生成模式改成random，再次測試模型"
      ]
    },
    {
      "cell_type": "markdown",
      "metadata": {
        "id": "bO01FQI41mrX"
      },
      "source": [
        "## 將程式3.3的遊戲生成模式改成random，並進行1000次訓練"
      ]
    },
    {
      "cell_type": "code",
      "execution_count": null,
      "metadata": {
        "colab": {
          "base_uri": "https://localhost:8080/",
          "height": 637
        },
        "id": "nIczocsl11q0",
        "outputId": "857d96d0-cdf5-44bf-e87e-7c8f72931a77"
      },
      "outputs": [
        {
          "output_type": "execute_result",
          "data": {
            "text/plain": [
              "Text(0, 0.5, 'Loss')"
            ]
          },
          "metadata": {},
          "execution_count": 20
        },
        {
          "output_type": "display_data",
          "data": {
            "text/plain": [
              "<Figure size 1000x700 with 1 Axes>"
            ],
            "image/png": "[encoded data removed]"
          },
          "metadata": {}
        }
      ],
      "source": [
        "epochs = 1000\n",
        "losses = [] #使用串列將每一次的loss記錄下來，方便之後將loss的變化趨勢畫成圖\n",
        "for i in range(epochs):\n",
        "  game = Gridworld(size=4, mode='random')\n",
        "  state_ = game.board.render_np().reshape(1,64) + np.random.rand(1,64)/10.0 #將3階的狀態陣列（4x4x4）轉換成向量（長度為64），並將每個值都加上一些雜訊（很小的數值）。\n",
        "  state1 = torch.from_numpy(state_).float() #將NumPy陣列轉換成PyTorch張量，並存於state1中\n",
        "  status = 1 #用來追蹤遊戲是否仍在繼續（『1』代表仍在繼續）\n",
        "  while(status == 1):\n",
        "    qval = model(state1) #執行Q網路，取得所有動作的預測Q值\n",
        "    qval_ = qval.data.numpy() #將qval轉換成NumPy陣列\n",
        "    if (random.random() < epsilon):\n",
        "      action_ = np.random.randint(0,4) #隨機選擇一個動作（探索）\n",
        "    else:\n",
        "      action_ = np.argmax(qval_) #選擇Q值最大的動作（探索）\n",
        "    action = action_set[action_] #將代表某動作的數字對應到makeMove()的英文字母\n",
        "    game.makeMove(action) #執行之前ε—貪婪策略所選出的動作\n",
        "    state2_ = game.board.render_np().reshape(1,64) + np.random.rand(1,64)/10.0\n",
        "    state2 = torch.from_numpy(state2_).float() #動作執行完畢，取得遊戲的新狀態並轉換成張量\n",
        "    reward = game.reward()\n",
        "    with torch.no_grad():\n",
        "      newQ = model(state2.reshape(1,64))\n",
        "    maxQ = torch.max(newQ) #將新狀態下所輸出的Q值向量中的最大值給記錄下來\n",
        "    if reward == -1:\n",
        "      Y = reward + (gamma * maxQ)  #計算訓練所用的目標Q值\n",
        "    else: #若reward不等於-1，代表遊戲已經結束，也就沒有下一個狀態了，因此目標Q值就等於回饋值\n",
        "      Y = reward\n",
        "    Y = torch.Tensor([Y]).detach()\n",
        "    X = qval.squeeze()[action_] #將演算法對執行的動作所預測的Q值存進X，並使用squeeze()將qval中維度為1的階去掉 (shape[1,4]會變成[4])\n",
        "    loss = loss_fn(X, Y) #計算目標Q值與預測Q值之間的誤差\n",
        "    if i%100 == 0:\n",
        "      print(i, loss.item())\n",
        "      clear_output(wait=True)\n",
        "    optimizer.zero_grad()\n",
        "    loss.backward()\n",
        "    optimizer.step()\n",
        "    state1 = state2\n",
        "    if abs(reward) == 10:\n",
        "      status = 0 # 若 reward 的絕對值為10，代表遊戲已經分出勝負，所以設status為0\n",
        "  losses.append(loss.item())\n",
        "  if epsilon > 0.1:\n",
        "    epsilon -= (1/epochs) #讓ε的值隨著訓練的進行而慢慢下降，直到0.1（還是要保留探索的動作）\n",
        "plt.figure(figsize=(10,7))\n",
        "plt.plot(losses)\n",
        "plt.xlabel(\"Epochs\",fontsize=11)\n",
        "plt.ylabel(\"Loss\",fontsize=11)"
      ]
    },
    {
      "cell_type": "markdown",
      "metadata": {
        "id": "jzHrfQQQ64_b"
      },
      "source": [
        "## 將程式3.3的遊戲生成模式改成player，並進行1000次訓練"
      ]
    },
    {
      "cell_type": "code",
      "execution_count": null,
      "metadata": {
        "colab": {
          "base_uri": "https://localhost:8080/",
          "height": 637
        },
        "id": "jdVFsjRP66Wq",
        "outputId": "f4c48f05-ea8b-480f-8770-9b8102c4aced"
      },
      "outputs": [
        {
          "output_type": "execute_result",
          "data": {
            "text/plain": [
              "Text(0, 0.5, 'Loss')"
            ]
          },
          "metadata": {},
          "execution_count": 21
        },
        {
          "output_type": "display_data",
          "data": {
            "text/plain": [
              "<Figure size 1000x700 with 1 Axes>"
            ],
            "image/png": "[encoded data removed]"
          },
          "metadata": {}
        }
      ],
      "source": [
        "epochs = 1000\n",
        "losses = [] #使用串列將每一次的loss記錄下來，方便之後將loss的變化趨勢畫成圖\n",
        "for i in range(epochs):\n",
        "  game = Gridworld(size=4, mode='player')\n",
        "  state_ = game.board.render_np().reshape(1,64) + np.random.rand(1,64)/10.0 #將3階的狀態陣列（4x4x4）轉換成向量（長度為64），並將每個值都加上一些雜訊（很小的數值）。\n",
        "  state1 = torch.from_numpy(state_).float() #將NumPy陣列轉換成PyTorch張量，並存於state1中\n",
        "  status = 1 #用來追蹤遊戲是否仍在繼續（『1』代表仍在繼續）\n",
        "  while(status == 1):\n",
        "    qval = model(state1) #執行Q網路，取得所有動作的預測Q值\n",
        "    qval_ = qval.data.numpy() #將qval轉換成NumPy陣列\n",
        "    if (random.random() < epsilon):\n",
        "      action_ = np.random.randint(0,4) #隨機選擇一個動作（探索）\n",
        "    else:\n",
        "      action_ = np.argmax(qval_) #選擇Q值最大的動作（探索）\n",
        "    action = action_set[action_] #將代表某動作的數字對應到makeMove()的英文字母\n",
        "    game.makeMove(action) #執行之前ε—貪婪策略所選出的動作\n",
        "    state2_ = game.board.render_np().reshape(1,64) + np.random.rand(1,64)/10.0\n",
        "    state2 = torch.from_numpy(state2_).float() #動作執行完畢，取得遊戲的新狀態並轉換成張量\n",
        "    reward = game.reward()\n",
        "    with torch.no_grad():\n",
        "      newQ = model(state2.reshape(1,64))\n",
        "    maxQ = torch.max(newQ) #將新狀態下所輸出的Q值向量中的最大值給記錄下來\n",
        "    if reward == -1:\n",
        "      Y = reward + (gamma * maxQ)  #計算訓練所用的目標Q值\n",
        "    else: #若reward不等於-1，代表遊戲已經結束，也就沒有下一個狀態了，因此目標Q值就等於回饋值\n",
        "      Y = reward\n",
        "    Y = torch.Tensor([Y]).detach()\n",
        "    X = qval.squeeze()[action_] #將演算法對執行的動作所預測的Q值存進X，並使用squeeze()將qval中維度為1的階去掉 (shape[1,4]會變成[4])\n",
        "    loss = loss_fn(X, Y) #計算目標Q值與預測Q值之間的誤差\n",
        "    if i%100 == 0:\n",
        "      print(i, loss.item())\n",
        "      clear_output(wait=True)\n",
        "    optimizer.zero_grad()\n",
        "    loss.backward()\n",
        "    optimizer.step()\n",
        "    state1 = state2\n",
        "    if abs(reward) == 10:\n",
        "      status = 0 # 若 reward 的絕對值為10，代表遊戲已經分出勝負，所以設status為0\n",
        "  losses.append(loss.item())\n",
        "  if epsilon > 0.1:\n",
        "    epsilon -= (1/epochs) #讓ε的值隨著訓練的進行而慢慢下降，直到0.1（還是要保留探索的動作）\n",
        "plt.figure(figsize=(10,7))\n",
        "plt.plot(losses)\n",
        "plt.xlabel(\"Epochs\",fontsize=11)\n",
        "plt.ylabel(\"Loss\",fontsize=11)"
      ]
    },
    {
      "cell_type": "markdown",
      "metadata": {
        "id": "mT2g6q1U9a3i"
      },
      "source": [
        "## 重建模型（同程式3.2）"
      ]
    },
    {
      "cell_type": "code",
      "execution_count": null,
      "metadata": {
        "id": "1ETE2OGN9iuP"
      },
      "outputs": [],
      "source": [
        "import numpy as np\n",
        "import torch\n",
        "from Gridworld import Gridworld\n",
        "from IPython.display import clear_output\n",
        "import random\n",
        "from matplotlib import pylab as plt\n",
        "\n",
        "L1 = 64 #輸入層的寬度\n",
        "L2 = 150 #第一隱藏層的寬度\n",
        "L3 = 100 #第二隱藏層的寬度\n",
        "L4 = 4 #輸出層的寬度\n",
        "\n",
        "model = torch.nn.Sequential(\n",
        "    torch.nn.Linear(L1, L2), #第一隱藏層的shape\n",
        "    torch.nn.ReLU(),\n",
        "    torch.nn.Linear(L2, L3), #第二隱藏層的shape\n",
        "    torch.nn.ReLU(),\n",
        "    torch.nn.Linear(L3,L4) #輸出層的shape\n",
        ")\n",
        "loss_fn = torch.nn.MSELoss() #指定損失函數為MSE（均方誤差）\n",
        "learning_rate = 1e-3  #設定學習率\n",
        "optimizer = torch.optim.Adam(model.parameters(), lr=learning_rate) #指定優化器為Adam，其中model.parameters會傳回所有要優化的權重參數\n",
        "\n",
        "gamma = 0.9 #折扣因子\n",
        "epsilon = 1.0"
      ]
    },
    {
      "cell_type": "markdown",
      "metadata": {
        "id": "7HjNKArD88bx"
      },
      "source": [
        "# 程式 3.5: 包含經驗回放的DQN"
      ]
    },
    {
      "cell_type": "code",
      "execution_count": null,
      "metadata": {
        "colab": {
          "base_uri": "https://localhost:8080/",
          "height": 399
        },
        "id": "PUt8NSvH9CbS",
        "outputId": "4ed84c95-b65d-45d5-ba3e-a28404c371ed"
      },
      "outputs": [
        {
          "output_type": "error",
          "ename": "KeyboardInterrupt",
          "evalue": "ignored",
          "traceback": [
            "\u001b[0;31m---------------------------------------------------------------------------\u001b[0m",
            "\u001b[0;31mKeyboardInterrupt\u001b[0m                         Traceback (most recent call last)",
            "\u001b[0;32m<ipython-input-23-fd869735db46>\u001b[0m in \u001b[0;36m<cell line: 8>\u001b[0;34m()\u001b[0m\n\u001b[1;32m     46\u001b[0m       \u001b[0moptimizer\u001b[0m\u001b[0;34m.\u001b[0m\u001b[0mzero_grad\u001b[0m\u001b[0;34m(\u001b[0m\u001b[0;34m)\u001b[0m\u001b[0;34m\u001b[0m\u001b[0;34m\u001b[0m\u001b[0m\n\u001b[1;32m     47\u001b[0m       \u001b[0mloss\u001b[0m\u001b[0;34m.\u001b[0m\u001b[0mbackward\u001b[0m\u001b[0;34m(\u001b[0m\u001b[0;34m)\u001b[0m\u001b[0;34m\u001b[0m\u001b[0;34m\u001b[0m\u001b[0m\n\u001b[0;32m---> 48\u001b[0;31m       \u001b[0moptimizer\u001b[0m\u001b[0;34m.\u001b[0m\u001b[0mstep\u001b[0m\u001b[0;34m(\u001b[0m\u001b[0;34m)\u001b[0m\u001b[0;34m\u001b[0m\u001b[0;34m\u001b[0m\u001b[0m\n\u001b[0m\u001b[1;32m     49\u001b[0m     \u001b[0;32mif\u001b[0m \u001b[0mabs\u001b[0m\u001b[0;34m(\u001b[0m\u001b[0mreward\u001b[0m\u001b[0;34m)\u001b[0m \u001b[0;34m==\u001b[0m \u001b[0;36m10\u001b[0m \u001b[0;32mor\u001b[0m \u001b[0mmov\u001b[0m \u001b[0;34m>\u001b[0m \u001b[0mmax_moves\u001b[0m\u001b[0;34m:\u001b[0m\u001b[0;34m\u001b[0m\u001b[0;34m\u001b[0m\u001b[0m\n\u001b[1;32m     50\u001b[0m       \u001b[0mstatus\u001b[0m \u001b[0;34m=\u001b[0m \u001b[0;36m0\u001b[0m\u001b[0;34m\u001b[0m\u001b[0;34m\u001b[0m\u001b[0m\n",
            "\u001b[0;32m/usr/local/lib/python3.10/dist-packages/torch/optim/optimizer.py\u001b[0m in \u001b[0;36mwrapper\u001b[0;34m(*args, **kwargs)\u001b[0m\n\u001b[1;32m    278\u001b[0m                                                f\"but got {result}.\")\n\u001b[1;32m    279\u001b[0m \u001b[0;34m\u001b[0m\u001b[0m\n\u001b[0;32m--> 280\u001b[0;31m                 \u001b[0mout\u001b[0m \u001b[0;34m=\u001b[0m \u001b[0mfunc\u001b[0m\u001b[0;34m(\u001b[0m\u001b[0;34m*\u001b[0m\u001b[0margs\u001b[0m\u001b[0;34m,\u001b[0m \u001b[0;34m**\u001b[0m\u001b[0mkwargs\u001b[0m\u001b[0;34m)\u001b[0m\u001b[0;34m\u001b[0m\u001b[0;34m\u001b[0m\u001b[0m\n\u001b[0m\u001b[1;32m    281\u001b[0m                 \u001b[0mself\u001b[0m\u001b[0;34m.\u001b[0m\u001b[0m_optimizer_step_code\u001b[0m\u001b[0;34m(\u001b[0m\u001b[0;34m)\u001b[0m\u001b[0;34m\u001b[0m\u001b[0;34m\u001b[0m\u001b[0m\n\u001b[1;32m    282\u001b[0m \u001b[0;34m\u001b[0m\u001b[0m\n",
            "\u001b[0;32m/usr/local/lib/python3.10/dist-packages/torch/optim/optimizer.py\u001b[0m in \u001b[0;36m_use_grad\u001b[0;34m(self, *args, **kwargs)\u001b[0m\n\u001b[1;32m     31\u001b[0m         \u001b[0;32mtry\u001b[0m\u001b[0;34m:\u001b[0m\u001b[0;34m\u001b[0m\u001b[0;34m\u001b[0m\u001b[0m\n\u001b[1;32m     32\u001b[0m             \u001b[0mtorch\u001b[0m\u001b[0;34m.\u001b[0m\u001b[0mset_grad_enabled\u001b[0m\u001b[0;34m(\u001b[0m\u001b[0mself\u001b[0m\u001b[0;34m.\u001b[0m\u001b[0mdefaults\u001b[0m\u001b[0;34m[\u001b[0m\u001b[0;34m'differentiable'\u001b[0m\u001b[0;34m]\u001b[0m\u001b[0;34m)\u001b[0m\u001b[0;34m\u001b[0m\u001b[0;34m\u001b[0m\u001b[0m\n\u001b[0;32m---> 33\u001b[0;31m             \u001b[0mret\u001b[0m \u001b[0;34m=\u001b[0m \u001b[0mfunc\u001b[0m\u001b[0;34m(\u001b[0m\u001b[0mself\u001b[0m\u001b[0;34m,\u001b[0m \u001b[0;34m*\u001b[0m\u001b[0margs\u001b[0m\u001b[0;34m,\u001b[0m \u001b[0;34m**\u001b[0m\u001b[0mkwargs\u001b[0m\u001b[0;34m)\u001b[0m\u001b[0;34m\u001b[0m\u001b[0;34m\u001b[0m\u001b[0m\n\u001b[0m\u001b[1;32m     34\u001b[0m         \u001b[0;32mfinally\u001b[0m\u001b[0;34m:\u001b[0m\u001b[0;34m\u001b[0m\u001b[0;34m\u001b[0m\u001b[0m\n\u001b[1;32m     35\u001b[0m             \u001b[0mtorch\u001b[0m\u001b[0;34m.\u001b[0m\u001b[0mset_grad_enabled\u001b[0m\u001b[0;34m(\u001b[0m\u001b[0mprev_grad\u001b[0m\u001b[0;34m)\u001b[0m\u001b[0;34m\u001b[0m\u001b[0;34m\u001b[0m\u001b[0m\n",
            "\u001b[0;32m/usr/local/lib/python3.10/dist-packages/torch/optim/adam.py\u001b[0m in \u001b[0;36mstep\u001b[0;34m(self, closure)\u001b[0m\n\u001b[1;32m    139\u001b[0m                 state_steps)\n\u001b[1;32m    140\u001b[0m \u001b[0;34m\u001b[0m\u001b[0m\n\u001b[0;32m--> 141\u001b[0;31m             adam(\n\u001b[0m\u001b[1;32m    142\u001b[0m                 \u001b[0mparams_with_grad\u001b[0m\u001b[0;34m,\u001b[0m\u001b[0;34m\u001b[0m\u001b[0;34m\u001b[0m\u001b[0m\n\u001b[1;32m    143\u001b[0m                 \u001b[0mgrads\u001b[0m\u001b[0;34m,\u001b[0m\u001b[0;34m\u001b[0m\u001b[0;34m\u001b[0m\u001b[0m\n",
            "\u001b[0;32m/usr/local/lib/python3.10/dist-packages/torch/optim/adam.py\u001b[0m in \u001b[0;36madam\u001b[0;34m(params, grads, exp_avgs, exp_avg_sqs, max_exp_avg_sqs, state_steps, foreach, capturable, differentiable, fused, grad_scale, found_inf, amsgrad, beta1, beta2, lr, weight_decay, eps, maximize)\u001b[0m\n\u001b[1;32m    279\u001b[0m         \u001b[0mfunc\u001b[0m \u001b[0;34m=\u001b[0m \u001b[0m_single_tensor_adam\u001b[0m\u001b[0;34m\u001b[0m\u001b[0;34m\u001b[0m\u001b[0m\n\u001b[1;32m    280\u001b[0m \u001b[0;34m\u001b[0m\u001b[0m\n\u001b[0;32m--> 281\u001b[0;31m     func(params,\n\u001b[0m\u001b[1;32m    282\u001b[0m          \u001b[0mgrads\u001b[0m\u001b[0;34m,\u001b[0m\u001b[0;34m\u001b[0m\u001b[0;34m\u001b[0m\u001b[0m\n\u001b[1;32m    283\u001b[0m          \u001b[0mexp_avgs\u001b[0m\u001b[0;34m,\u001b[0m\u001b[0;34m\u001b[0m\u001b[0;34m\u001b[0m\u001b[0m\n",
            "\u001b[0;32m/usr/local/lib/python3.10/dist-packages/torch/optim/adam.py\u001b[0m in \u001b[0;36m_single_tensor_adam\u001b[0;34m(params, grads, exp_avgs, exp_avg_sqs, max_exp_avg_sqs, state_steps, grad_scale, found_inf, amsgrad, beta1, beta2, lr, weight_decay, eps, maximize, capturable, differentiable)\u001b[0m\n\u001b[1;32m    342\u001b[0m \u001b[0;34m\u001b[0m\u001b[0m\n\u001b[1;32m    343\u001b[0m         \u001b[0;31m# Decay the first and second moment running average coefficient\u001b[0m\u001b[0;34m\u001b[0m\u001b[0;34m\u001b[0m\u001b[0m\n\u001b[0;32m--> 344\u001b[0;31m         \u001b[0mexp_avg\u001b[0m\u001b[0;34m.\u001b[0m\u001b[0mmul_\u001b[0m\u001b[0;34m(\u001b[0m\u001b[0mbeta1\u001b[0m\u001b[0;34m)\u001b[0m\u001b[0;34m.\u001b[0m\u001b[0madd_\u001b[0m\u001b[0;34m(\u001b[0m\u001b[0mgrad\u001b[0m\u001b[0;34m,\u001b[0m \u001b[0malpha\u001b[0m\u001b[0;34m=\u001b[0m\u001b[0;36m1\u001b[0m \u001b[0;34m-\u001b[0m \u001b[0mbeta1\u001b[0m\u001b[0;34m)\u001b[0m\u001b[0;34m\u001b[0m\u001b[0;34m\u001b[0m\u001b[0m\n\u001b[0m\u001b[1;32m    345\u001b[0m         \u001b[0mexp_avg_sq\u001b[0m\u001b[0;34m.\u001b[0m\u001b[0mmul_\u001b[0m\u001b[0;34m(\u001b[0m\u001b[0mbeta2\u001b[0m\u001b[0;34m)\u001b[0m\u001b[0;34m.\u001b[0m\u001b[0maddcmul_\u001b[0m\u001b[0;34m(\u001b[0m\u001b[0mgrad\u001b[0m\u001b[0;34m,\u001b[0m \u001b[0mgrad\u001b[0m\u001b[0;34m.\u001b[0m\u001b[0mconj\u001b[0m\u001b[0;34m(\u001b[0m\u001b[0;34m)\u001b[0m\u001b[0;34m,\u001b[0m \u001b[0mvalue\u001b[0m\u001b[0;34m=\u001b[0m\u001b[0;36m1\u001b[0m \u001b[0;34m-\u001b[0m \u001b[0mbeta2\u001b[0m\u001b[0;34m)\u001b[0m\u001b[0;34m\u001b[0m\u001b[0;34m\u001b[0m\u001b[0m\n\u001b[1;32m    346\u001b[0m \u001b[0;34m\u001b[0m\u001b[0m\n",
            "\u001b[0;31mKeyboardInterrupt\u001b[0m: "
          ]
        }
      ],
      "source": [
        "from collections import deque\n",
        "epochs = 5000 #訓練5000次\n",
        "losses = []\n",
        "mem_size = 1000 #設定記憶串列的大小\n",
        "batch_size = 200 #設定單一小批次（mini_batch）的大小\n",
        "replay = deque(maxlen=mem_size) #產生一個記憶串列（資料型別為deque）來儲存經驗回放的資料，並將其命名為replay\n",
        "max_moves = 50 #設定每場遊戲最多可以走幾步\n",
        "for i in range(epochs):\n",
        "  game = Gridworld(size=4, mode='random')\n",
        "  state1_ = game.board.render_np().reshape(1,64) + np.random.rand(1,64)/100.0\n",
        "  state1 = torch.from_numpy(state1_).float()\n",
        "  status = 1\n",
        "  mov = 0 #記錄移動的步數，初始化為0\n",
        "  while(status == 1):\n",
        "    mov += 1\n",
        "    qval = model(state1) #輸出各動作的Q值\n",
        "    qval_ = qval.data.numpy()\n",
        "    if (random.random() < epsilon):\n",
        "      action_ = np.random.randint(0,4)\n",
        "    else:\n",
        "      action_ = np.argmax(qval_)\n",
        "    action = action_set[action_]\n",
        "    game.makeMove(action)\n",
        "    state2_ = game.board.render_np().reshape(1,64) + np.random.rand(1,64)/100.0\n",
        "    state2 = torch.from_numpy(state2_).float()\n",
        "    reward = game.reward()\n",
        "    done = True if reward != -1 else False #在reward不等於-1時設定done=True，代表遊戲已經結束了（分出勝負時，reward會等於10或-10）\n",
        "    exp = (state1, action_, reward, state2, done) #產生一筆經驗，其中包含當前狀態、動作、新狀態、回饋值及done值\n",
        "    replay.append(exp) #將該經驗加入名為replay的deque串列中\n",
        "    state1 = state2 #產生的新狀態會變成下一次訓練時的輸入狀態\n",
        "    if len(replay) > batch_size: #當replay的長度大於小批次量（mini-batch size）時，啟動小批次訓練\n",
        "      minibatch = random.sample(replay, batch_size) #隨機選擇replay中的資料來組成子集\n",
        "      state1_batch = torch.cat([s1 for (s1,a,r,s2,d) in minibatch]) #將經驗中的不同元素分別儲存到對應的小批次張量中\n",
        "      action_batch = torch.Tensor([a for (s1,a,r,s2,d) in minibatch])\n",
        "      reward_batch = torch.Tensor([r for (s1,a,r,s2,d) in minibatch])\n",
        "      state2_batch = torch.cat([s2 for (s1,a,r,s2,d) in minibatch])\n",
        "      done_batch = torch.Tensor([d for (s1,a,r,s2,d) in minibatch])\n",
        "      Q1 = model(state1_batch) #利用小批次資料中的『目前狀態批次』來計算Q值3\n",
        "      with torch.no_grad():\n",
        "        Q2 = model(state2_batch) #利用小批次資料中的新狀態來計算Q值，但設定為不需要計算梯度\n",
        "      Y = reward_batch + gamma * ((1 - done_batch) * torch.max(Q2,dim=1)[0]) #計算我們希望DQN學習的目標Q值\n",
        "      X = Q1.gather(dim=1,index=action_batch.long().unsqueeze(dim=1)).squeeze()\n",
        "      loss = loss_fn(X, Y.detach())\n",
        "      print(i, loss.item())\n",
        "      clear_output(wait=True)\n",
        "      optimizer.zero_grad()\n",
        "      loss.backward()\n",
        "      optimizer.step()\n",
        "    if abs(reward) == 10 or mov > max_moves:\n",
        "      status = 0\n",
        "      mov = 0 #若遊戲結束，則重設status和mov變數的值\n",
        "    losses.append(loss.item())\n",
        "  if epsilon > 0.1:\n",
        "    epsilon -= (1/epochs) #讓ε的值隨著訓練的進行而慢慢下降，直到0.1（還是要保留探索的動作）\n",
        "losses = np.array(losses)\n",
        "plt.figure(figsize=(10,7))\n",
        "plt.plot(losses)\n",
        "plt.xlabel(\"Steps\",fontsize=11)\n",
        "plt.ylabel(\"Loss\",fontsize=11)"
      ]
    },
    {
      "cell_type": "markdown",
      "metadata": {
        "id": "mZb8Yhhc_jff"
      },
      "source": [
        "## 小編補充：gather()和unsqueeze()的函式說明"
      ]
    },
    {
      "cell_type": "code",
      "execution_count": null,
      "metadata": {
        "id": "beZudq_h_qfT"
      },
      "outputs": [],
      "source": [
        "t = torch.Tensor([ [1, 2, 3],\n",
        "          [4, 5, 6],\n",
        "          [7, 8, 9]])\n",
        "indices = torch.Tensor([ [2],\n",
        "            [0],\n",
        "            [1]])\n",
        "torch.gather(input=t,dim=1,index=indices.long())"
      ]
    },
    {
      "cell_type": "code",
      "execution_count": null,
      "metadata": {
        "id": "WVUHKcTZ_iwZ"
      },
      "outputs": [],
      "source": [
        "x = torch.tensor([1,2,3,4])\n",
        "y = torch.unsqueeze(input=x, dim=0) #在x張量的第0階加入一個1維的階\n",
        "print(y.shape)"
      ]
    },
    {
      "cell_type": "markdown",
      "metadata": {
        "id": "gvcjO0ok9ugy"
      },
      "source": [
        "# 程式 3.6：測試具備經驗回放機制的模型"
      ]
    },
    {
      "cell_type": "code",
      "execution_count": null,
      "metadata": {
        "id": "QsHT8gw1980b"
      },
      "outputs": [],
      "source": [
        "max_games = 1000 #模擬1000次遊戲\n",
        "wins = 0\n",
        "for i in range(max_games):\n",
        "  win = test_model(model, mode='random') #利用random模式來進行測試\n",
        "  if win:\n",
        "    wins += 1\n",
        "win_perc = float(wins) / float(max_games)\n",
        "print(\"Games played: {0}, # of wins: {1}\".format(max_games,wins))\n",
        "print(\"Win percentage: {}%\".format(100.0*win_perc)) #顯示勝率"
      ]
    },
    {
      "cell_type": "markdown",
      "metadata": {
        "id": "W6ad_66j-D_C"
      },
      "source": [
        "# 程式 3.7： 目標網路 (解決 Overestimate Q 的問題)"
      ]
    },
    {
      "cell_type": "code",
      "execution_count": null,
      "metadata": {
        "id": "HRC4eZcF-HNf"
      },
      "outputs": [],
      "source": [
        "import copy\n",
        "\n",
        "L1 = 64\n",
        "L2 = 150\n",
        "L3 = 100\n",
        "L4 = 4\n",
        "\n",
        "model = torch.nn.Sequential(\n",
        "    torch.nn.Linear(L1, L2),\n",
        "    torch.nn.ReLU(),\n",
        "    torch.nn.Linear(L2, L3),\n",
        "    torch.nn.ReLU(),\n",
        "    torch.nn.Linear(L3,L4)\n",
        ")\n",
        "\n",
        "model2 = copy.deepcopy(model) #完整複製原始Q網路模型，產生目標網路模型\n",
        "model2.load_state_dict(model.state_dict()) #將原始Q網路中的參數複製給目標網路\n",
        "loss_fn = torch.nn.MSELoss()\n",
        "learning_rate = 1e-3\n",
        "optimizer = torch.optim.Adam(model.parameters(), lr=learning_rate)\n",
        "\n",
        "gamma = 0.9\n",
        "epsilon = 1.0\n"
      ]
    },
    {
      "cell_type": "markdown",
      "metadata": {
        "id": "Z8Ywra_v-SzE"
      },
      "source": [
        "# 程式 3.8： 利用經驗回放和目標網路訓練DQN"
      ]
    },
    {
      "cell_type": "code",
      "execution_count": null,
      "metadata": {
        "id": "AAPUfCgV-WL9"
      },
      "outputs": [],
      "source": [
        "from collections import deque\n",
        "epochs = 5000\n",
        "losses = []\n",
        "mem_size = 1000 #設定記憶串列的大小\n",
        "batch_size = 200 #設定批次大小\n",
        "replay = deque(maxlen=mem_size)\n",
        "max_moves = 50\n",
        "sync_freq = 500 #設定Q網路和目標網路的參數同步頻率（每500步就同步一次參數）\n",
        "j=0 #記錄當前訓練次數\n",
        "for i in range(epochs):\n",
        "  game = Gridworld(size=4, mode='random')\n",
        "  state1_ = game.board.render_np().reshape(1,64) + np.random.rand(1,64)/100.0\n",
        "  state1 = torch.from_numpy(state1_).float()\n",
        "  status = 1\n",
        "  mov = 0\n",
        "  while(status == 1):\n",
        "    j+=1 #將訓練次數加1\n",
        "    mov += 1\n",
        "    qval = model(state1)\n",
        "    qval_ = qval.data.numpy()\n",
        "    if (random.random() < epsilon):\n",
        "      action_ = np.random.randint(0,4)\n",
        "    else:\n",
        "      action_ = np.argmax(qval_)\n",
        "    action = action_set[action_]\n",
        "    game.makeMove(action)\n",
        "    state2_ = game.board.render_np().reshape(1,64) + np.random.rand(1,64)/100.0\n",
        "    state2 = torch.from_numpy(state2_).float()\n",
        "    reward = game.reward()\n",
        "    done = True if reward != -1 else False\n",
        "    exp =  (state1, action_, reward, state2, done)\n",
        "    replay.append(exp)\n",
        "    state1 = state2\n",
        "    if len(replay) > batch_size:\n",
        "      minibatch = random.sample(replay, batch_size)\n",
        "      state1_batch = torch.cat([s1 for (s1,a,r,s2,d) in minibatch])\n",
        "      action_batch = torch.Tensor([a for (s1,a,r,s2,d) in minibatch])\n",
        "      reward_batch = torch.Tensor([r for (s1,a,r,s2,d) in minibatch])\n",
        "      state2_batch = torch.cat([s2 for (s1,a,r,s2,d) in minibatch])\n",
        "      done_batch = torch.Tensor([d for (s1,a,r,s2,d) in minibatch])\n",
        "      Q1 = model(state1_batch)\n",
        "      with torch.no_grad():     #用目標網路模型計算Q值, 但不要優化模型的參數\n",
        "        Q2 = model2(state2_batch)\n",
        "      Y = reward_batch + gamma * ((1-done_batch) * torch.max(Q2,dim=1)[0])\n",
        "      X = Q1.gather(dim=1,index=action_batch.long().unsqueeze(dim=1)).squeeze()\n",
        "      loss = loss_fn(X, Y.detach())\n",
        "      print(i, loss.item())\n",
        "      clear_output(wait=True)\n",
        "      optimizer.zero_grad()\n",
        "      loss.backward()\n",
        "      optimizer.step()\n",
        "      if j % sync_freq == 0: #每500步，就將Q網路當前的參數複製一份給目標網路\n",
        "        model2.load_state_dict(model.state_dict())\n",
        "    if reward != -1 or mov > max_moves:\n",
        "      status = 0\n",
        "      mov = 0\n",
        "    losses.append(loss.item())\n",
        "  if epsilon > 0.1:\n",
        "    epsilon -= (1/epochs) #讓ε的值隨著訓練的進行而慢慢下降，直到0.1（還是要保留探索的動作）\n",
        "plt.figure(figsize=(10,7))\n",
        "plt.plot(losses)\n",
        "plt.xlabel(\"Steps\",fontsize=11)\n",
        "plt.ylabel(\"Loss\",fontsize=11)"
      ]
    },
    {
      "cell_type": "markdown",
      "metadata": {
        "id": "m6xom6noAfAC"
      },
      "source": [
        "## 測試勝率"
      ]
    },
    {
      "cell_type": "code",
      "execution_count": null,
      "metadata": {
        "id": "c6c44M3FAcuF"
      },
      "outputs": [],
      "source": [
        "max_games = 1000\n",
        "wins = 0\n",
        "for i in range(max_games):\n",
        "    win = test_model(model, mode='random')\n",
        "    if win:\n",
        "      wins += 1\n",
        "win_perc = float(wins) / float(max_games)\n",
        "print(\"Games played: {0}, # of wins: {1}\".format(max_games,wins))\n",
        "print(\"Win percentage: {}%\".format(100.0*win_perc)) #顯示勝率"
      ]
    },
    {
      "cell_type": "markdown",
      "metadata": {
        "id": "o0U5H3QXVegS"
      },
      "source": [
        "# 程式 3.5 改良版 （加入『學習避免撞牆』機制）"
      ]
    },
    {
      "cell_type": "code",
      "execution_count": null,
      "metadata": {
        "id": "O25ZUhH2ViXz"
      },
      "outputs": [],
      "source": [
        "model = torch.nn.Sequential(\n",
        "    torch.nn.Linear(L1, L2), #第一隱藏層\n",
        "    torch.nn.ReLU(),\n",
        "    torch.nn.Linear(L2, L3), #第二隱藏層\n",
        "    torch.nn.ReLU(),\n",
        "    torch.nn.Linear(L3,L4) #輸出層\n",
        ")\n",
        "loss_fn = torch.nn.MSELoss()\n",
        "learning_rate = 1e-3  #超參數『α』\n",
        "optimizer = torch.optim.Adam(model.parameters(), lr=learning_rate) #model.parameters()會傳回所有要優化的權重參數\n",
        "\n",
        "gamma = 0.9\n",
        "epsilon = 1.0\n",
        "\n",
        "#————————————————\n",
        "\n",
        "from collections import deque\n",
        "epochs = 5000\n",
        "losses = []\n",
        "mem_size = 1000 #設定記憶串列的大小\n",
        "batch_size = 200 #設定單一小批次（mini_batch）的大小\n",
        "move_pos = [(-1,0),(1,0),(0,-1),(0,1)]   #●移動方向 u,d,l,r 的實際移動向量\n",
        "replay = deque(maxlen=mem_size) #產生一個deque串列來儲存經驗回放的資料\n",
        "max_moves = 50 #設定每場遊戲最多可以走幾步\n",
        "for i in range(epochs):\n",
        "  game = Gridworld(size=4, mode='random')\n",
        "  state1_ = game.board.render_np().reshape(1,64) + np.random.rand(1,64)/100.0\n",
        "  state1 = torch.from_numpy(state1_).float()\n",
        "  status = 1\n",
        "  mov = 0 #移動的步數\n",
        "  while(status == 1):\n",
        "    mov += 1\n",
        "    qval = model(state1) #輸出各動作的Q值\n",
        "    qval_ = qval.data.numpy()\n",
        "    if (random.random() < epsilon):\n",
        "      action_ = np.random.randint(0,4)\n",
        "    else:\n",
        "      action_ = np.argmax(qval_)\n",
        "    hit_wall = game.validateMove('Player', move_pos[action_]) == 1 #●若有撞牆的動作，hit_wall就為True\n",
        "    action = action_set[action_]\n",
        "    game.makeMove(action)\n",
        "    state2_ = game.board.render_np().reshape(1,64) + np.random.rand(1,64)/100.0\n",
        "    state2 = torch.from_numpy(state2_).float()\n",
        "    reward = -5 if hit_wall else game.reward() #●2.若撞牆回饋-5\n",
        "    done = True if reward != -1 else False #在reward不等於-1時設定done=True，代表遊戲已經結束了（分出勝負時，reward會等於10或-10）\n",
        "    exp = (state1, action_, reward, state2, done) #產生一筆經驗，其中包含當前狀態、動作、新狀態、回饋值及done值\n",
        "    replay.append(exp) #將該經驗加入名為replay的deque串列中\n",
        "    state1 = state2 #產生的新狀態會變成下一次訓練時的輸入狀態\n",
        "    if len(replay) > batch_size: #當replay的長度大於小批次量（mini-batch size）時，啟動小批次訓練\n",
        "      minibatch = random.sample(replay, batch_size) #隨機選擇replay中的資料來組成子集\n",
        "      state1_batch = torch.cat([s1 for (s1,a,r,s2,d) in minibatch]) #{5}將經驗中的不同元素分別儲存到對應的小批次張量中\n",
        "      action_batch = torch.Tensor([a for (s1,a,r,s2,d) in minibatch])\n",
        "      reward_batch = torch.Tensor([r for (s1,a,r,s2,d) in minibatch])\n",
        "      state2_batch = torch.cat([s2 for (s1,a,r,s2,d) in minibatch])\n",
        "      done_batch = torch.Tensor([d for (s1,a,r,s2,d) in minibatch])\n",
        "      Q1 = model(state1_batch) #利用小批次資料中的目前狀態來計算Q值\n",
        "      with torch.no_grad():\n",
        "        Q2 = model(state2_batch) #利用小批次資料中的新狀態來計算Q值，但設定為不需要計算梯度\n",
        "      Y = reward_batch + gamma * ((1 - done_batch) * torch.max(Q2,dim=1)[0]) #計算我們希望DQN學習的目標Q值\n",
        "      X = Q1.gather(dim=1,index=action_batch.long().unsqueeze(dim=1)).squeeze() #gather()及unsqueeze()函式的用途可參見下面的小編補充框\n",
        "      loss = loss_fn(X, Y.detach())\n",
        "      if i%100 == 0:\n",
        "        print(i, loss.item())\n",
        "        clear_output(wait=True)\n",
        "      optimizer.zero_grad()\n",
        "      loss.backward()\n",
        "      losses.append(loss.item())\n",
        "      optimizer.step()\n",
        "    if abs(reward) == 10 or mov > max_moves:\n",
        "      status = 0\n",
        "      mov = 0 #若遊戲結束，則重設status和mov變數的值\n",
        "  if epsilon > 0.1:\n",
        "    epsilon -= (1/epochs) #讓ε的值隨著訓練的進行而慢慢下降，直到0.1（還是要保留探索的動作）\n",
        "losses = np.array(losses)\n",
        "plt.figure(figsize=(10,7))\n",
        "plt.plot(losses)\n",
        "plt.xlabel(\"Steps\",fontsize=11)\n",
        "plt.ylabel(\"Loss\",fontsize=11)\n",
        "\n",
        "#——————————————\n",
        "\n",
        "max_games = 1000\n",
        "wins = 0\n",
        "for i in range(max_games):\n",
        "  win = test_model(model, mode='random')\n",
        "  if win:\n",
        "    wins += 1\n",
        "win_perc = float(wins) / float(max_games)\n",
        "print(\"Games played: {0}, # of wins: {1}\".format(max_games,wins))\n",
        "print(\"Win percentage: {}%\".format(100.0*win_perc)) #顯示勝率"
      ]
    }
  ],
  "metadata": {
    "accelerator": "GPU",
    "colab": {
      "provenance": [],
      "include_colab_link": true
    },
    "kernelspec": {
      "display_name": "Python 3",
      "language": "python",
      "name": "python3"
    },
    "language_info": {
      "codemirror_mode": {
        "name": "ipython",
        "version": 3
      },
      "file_extension": ".py",
      "mimetype": "text/x-python",
      "name": "python",
      "nbconvert_exporter": "python",
      "pygments_lexer": "ipython3",
      "version": "3.8.3"
    },
    "widgets": {
      "application/vnd.jupyter.widget-state+json": {
        "e548e705050f4c9e9e52f2deee19c7ea": {
          "model_module": "@jupyter-widgets/controls",
          "model_name": "HBoxModel",
          "model_module_version": "1.5.0",
          "state": {
            "_dom_classes": [],
            "_model_module": "@jupyter-widgets/controls",
            "_model_module_version": "1.5.0",
            "_model_name": "HBoxModel",
            "_view_count": null,
            "_view_module": "@jupyter-widgets/controls",
            "_view_module_version": "1.5.0",
            "_view_name": "HBoxView",
            "box_style": "",
            "children": [
              "IPY_MODEL_59cda64922e543b2a17f53baae488e80",
              "IPY_MODEL_277dc988c6f84e088c392aeeab63b9e4",
              "IPY_MODEL_2e33d90c32804c26883f0481fbd25955"
            ],
            "layout": "IPY_MODEL_24cf58ffbd1046c48d909976a31774d5"
          }
        },
        "59cda64922e543b2a17f53baae488e80": {
          "model_module": "@jupyter-widgets/controls",
          "model_name": "HTMLModel",
          "model_module_version": "1.5.0",
          "state": {
            "_dom_classes": [],
            "_model_module": "@jupyter-widgets/controls",
            "_model_module_version": "1.5.0",
            "_model_name": "HTMLModel",
            "_view_count": null,
            "_view_module": "@jupyter-widgets/controls",
            "_view_module_version": "1.5.0",
            "_view_name": "HTMLView",
            "description": "",
            "description_tooltip": null,
            "layout": "IPY_MODEL_4cf1ee840a604c03adb93bb3cc4d997e",
            "placeholder": "​",
            "style": "IPY_MODEL_210d09d3e84549d7ae21390827cdc7f9",
            "value": "Epoch 999: 100%"
          }
        },
        "277dc988c6f84e088c392aeeab63b9e4": {
          "model_module": "@jupyter-widgets/controls",
          "model_name": "FloatProgressModel",
          "model_module_version": "1.5.0",
          "state": {
            "_dom_classes": [],
            "_model_module": "@jupyter-widgets/controls",
            "_model_module_version": "1.5.0",
            "_model_name": "FloatProgressModel",
            "_view_count": null,
            "_view_module": "@jupyter-widgets/controls",
            "_view_module_version": "1.5.0",
            "_view_name": "ProgressView",
            "bar_style": "success",
            "description": "",
            "description_tooltip": null,
            "layout": "IPY_MODEL_fe53ba9de8a443e0981b02ce1be16bed",
            "max": 16,
            "min": 0,
            "orientation": "horizontal",
            "style": "IPY_MODEL_1c61e23a9b8442649e04eece16df6159",
            "value": 16
          }
        },
        "2e33d90c32804c26883f0481fbd25955": {
          "model_module": "@jupyter-widgets/controls",
          "model_name": "HTMLModel",
          "model_module_version": "1.5.0",
          "state": {
            "_dom_classes": [],
            "_model_module": "@jupyter-widgets/controls",
            "_model_module_version": "1.5.0",
            "_model_name": "HTMLModel",
            "_view_count": null,
            "_view_module": "@jupyter-widgets/controls",
            "_view_module_version": "1.5.0",
            "_view_name": "HTMLView",
            "description": "",
            "description_tooltip": null,
            "layout": "IPY_MODEL_25c78e86db9b48e79ab41dd3c24db258",
            "placeholder": "​",
            "style": "IPY_MODEL_88c08ee3529240319d5d33c774df2308",
            "value": " 16/16 [00:00&lt;00:00, 196.45it/s, v_num=0]"
          }
        },
        "24cf58ffbd1046c48d909976a31774d5": {
          "model_module": "@jupyter-widgets/base",
          "model_name": "LayoutModel",
          "model_module_version": "1.2.0",
          "state": {
            "_model_module": "@jupyter-widgets/base",
            "_model_module_version": "1.2.0",
            "_model_name": "LayoutModel",
            "_view_count": null,
            "_view_module": "@jupyter-widgets/base",
            "_view_module_version": "1.2.0",
            "_view_name": "LayoutView",
            "align_content": null,
            "align_items": null,
            "align_self": null,
            "border": null,
            "bottom": null,
            "display": "inline-flex",
            "flex": null,
            "flex_flow": "row wrap",
            "grid_area": null,
            "grid_auto_columns": null,
            "grid_auto_flow": null,
            "grid_auto_rows": null,
            "grid_column": null,
            "grid_gap": null,
            "grid_row": null,
            "grid_template_areas": null,
            "grid_template_columns": null,
            "grid_template_rows": null,
            "height": null,
            "justify_content": null,
            "justify_items": null,
            "left": null,
            "margin": null,
            "max_height": null,
            "max_width": null,
            "min_height": null,
            "min_width": null,
            "object_fit": null,
            "object_position": null,
            "order": null,
            "overflow": null,
            "overflow_x": null,
            "overflow_y": null,
            "padding": null,
            "right": null,
            "top": null,
            "visibility": null,
            "width": "100%"
          }
        },
        "4cf1ee840a604c03adb93bb3cc4d997e": {
          "model_module": "@jupyter-widgets/base",
          "model_name": "LayoutModel",
          "model_module_version": "1.2.0",
          "state": {
            "_model_module": "@jupyter-widgets/base",
            "_model_module_version": "1.2.0",
            "_model_name": "LayoutModel",
            "_view_count": null,
            "_view_module": "@jupyter-widgets/base",
            "_view_module_version": "1.2.0",
            "_view_name": "LayoutView",
            "align_content": null,
            "align_items": null,
            "align_self": null,
            "border": null,
            "bottom": null,
            "display": null,
            "flex": null,
            "flex_flow": null,
            "grid_area": null,
            "grid_auto_columns": null,
            "grid_auto_flow": null,
            "grid_auto_rows": null,
            "grid_column": null,
            "grid_gap": null,
            "grid_row": null,
            "grid_template_areas": null,
            "grid_template_columns": null,
            "grid_template_rows": null,
            "height": null,
            "justify_content": null,
            "justify_items": null,
            "left": null,
            "margin": null,
            "max_height": null,
            "max_width": null,
            "min_height": null,
            "min_width": null,
            "object_fit": null,
            "object_position": null,
            "order": null,
            "overflow": null,
            "overflow_x": null,
            "overflow_y": null,
            "padding": null,
            "right": null,
            "top": null,
            "visibility": null,
            "width": null
          }
        },
        "210d09d3e84549d7ae21390827cdc7f9": {
          "model_module": "@jupyter-widgets/controls",
          "model_name": "DescriptionStyleModel",
          "model_module_version": "1.5.0",
          "state": {
            "_model_module": "@jupyter-widgets/controls",
            "_model_module_version": "1.5.0",
            "_model_name": "DescriptionStyleModel",
            "_view_count": null,
            "_view_module": "@jupyter-widgets/base",
            "_view_module_version": "1.2.0",
            "_view_name": "StyleView",
            "description_width": ""
          }
        },
        "fe53ba9de8a443e0981b02ce1be16bed": {
          "model_module": "@jupyter-widgets/base",
          "model_name": "LayoutModel",
          "model_module_version": "1.2.0",
          "state": {
            "_model_module": "@jupyter-widgets/base",
            "_model_module_version": "1.2.0",
            "_model_name": "LayoutModel",
            "_view_count": null,
            "_view_module": "@jupyter-widgets/base",
            "_view_module_version": "1.2.0",
            "_view_name": "LayoutView",
            "align_content": null,
            "align_items": null,
            "align_self": null,
            "border": null,
            "bottom": null,
            "display": null,
            "flex": "2",
            "flex_flow": null,
            "grid_area": null,
            "grid_auto_columns": null,
            "grid_auto_flow": null,
            "grid_auto_rows": null,
            "grid_column": null,
            "grid_gap": null,
            "grid_row": null,
            "grid_template_areas": null,
            "grid_template_columns": null,
            "grid_template_rows": null,
            "height": null,
            "justify_content": null,
            "justify_items": null,
            "left": null,
            "margin": null,
            "max_height": null,
            "max_width": null,
            "min_height": null,
            "min_width": null,
            "object_fit": null,
            "object_position": null,
            "order": null,
            "overflow": null,
            "overflow_x": null,
            "overflow_y": null,
            "padding": null,
            "right": null,
            "top": null,
            "visibility": null,
            "width": null
          }
        },
        "1c61e23a9b8442649e04eece16df6159": {
          "model_module": "@jupyter-widgets/controls",
          "model_name": "ProgressStyleModel",
          "model_module_version": "1.5.0",
          "state": {
            "_model_module": "@jupyter-widgets/controls",
            "_model_module_version": "1.5.0",
            "_model_name": "ProgressStyleModel",
            "_view_count": null,
            "_view_module": "@jupyter-widgets/base",
            "_view_module_version": "1.2.0",
            "_view_name": "StyleView",
            "bar_color": null,
            "description_width": ""
          }
        },
        "25c78e86db9b48e79ab41dd3c24db258": {
          "model_module": "@jupyter-widgets/base",
          "model_name": "LayoutModel",
          "model_module_version": "1.2.0",
          "state": {
            "_model_module": "@jupyter-widgets/base",
            "_model_module_version": "1.2.0",
            "_model_name": "LayoutModel",
            "_view_count": null,
            "_view_module": "@jupyter-widgets/base",
            "_view_module_version": "1.2.0",
            "_view_name": "LayoutView",
            "align_content": null,
            "align_items": null,
            "align_self": null,
            "border": null,
            "bottom": null,
            "display": null,
            "flex": null,
            "flex_flow": null,
            "grid_area": null,
            "grid_auto_columns": null,
            "grid_auto_flow": null,
            "grid_auto_rows": null,
            "grid_column": null,
            "grid_gap": null,
            "grid_row": null,
            "grid_template_areas": null,
            "grid_template_columns": null,
            "grid_template_rows": null,
            "height": null,
            "justify_content": null,
            "justify_items": null,
            "left": null,
            "margin": null,
            "max_height": null,
            "max_width": null,
            "min_height": null,
            "min_width": null,
            "object_fit": null,
            "object_position": null,
            "order": null,
            "overflow": null,
            "overflow_x": null,
            "overflow_y": null,
            "padding": null,
            "right": null,
            "top": null,
            "visibility": null,
            "width": null
          }
        },
        "88c08ee3529240319d5d33c774df2308": {
          "model_module": "@jupyter-widgets/controls",
          "model_name": "DescriptionStyleModel",
          "model_module_version": "1.5.0",
          "state": {
            "_model_module": "@jupyter-widgets/controls",
            "_model_module_version": "1.5.0",
            "_model_name": "DescriptionStyleModel",
            "_view_count": null,
            "_view_module": "@jupyter-widgets/base",
            "_view_module_version": "1.2.0",
            "_view_name": "StyleView",
            "description_width": ""
          }
        }
      }
    }
  },
  "nbformat": 4,
  "nbformat_minor": 0
}